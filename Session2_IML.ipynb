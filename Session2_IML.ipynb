{
  "nbformat": 4,
  "nbformat_minor": 0,
  "metadata": {
    "colab": {
      "name": "Session2_IML.ipynb",
      "provenance": [],
      "collapsed_sections": [],
      "toc_visible": true
    },
    "kernelspec": {
      "name": "python3",
      "display_name": "Python 3"
    }
  },
  "cells": [
    {
      "cell_type": "markdown",
      "metadata": {
        "id": "0QnxJ7JgdpxI"
      },
      "source": [
        "# Introduction to Machine Learning  Workshop Series by HMTE UP\r\n",
        "\r\n",
        "\r\n",
        "## Session 2: Introduction to Machine Learning\r\n",
        "\r\n",
        "##### Author: Anggita Permatasari, S.T"
      ]
    },
    {
      "cell_type": "markdown",
      "metadata": {
        "id": "EwpTw53BeHgy"
      },
      "source": [
        "##**Welcome!**\r\n",
        "\r\n",
        "In this module, we will learn more about **Machine Learning with Python**. Hope you enjoy!\r\n",
        "\r\n",
        "If you have any question regarding this module, don't hesitate to hit me up through:\r\n",
        "\r\n",
        "https://www.instagram.com/anggitaaps/\r\n",
        "\r\n",
        "https://www.linkedin.com/in/anggitaaps/\r\n",
        "\r\n",
        "# :)"
      ]
    },
    {
      "cell_type": "markdown",
      "metadata": {
        "id": "kTL3VpWSfoSX"
      },
      "source": [
        "## **Disclaimer [PLEASE READ]**\r\n",
        "This following module is written by **Anggita Permatasari** for **Introduction to Machine Learning Workshop by HMTE UP 2021**. This notebook is intended for **personal use** only by the individuals who have the access. Please do not reproduce and distribute this notebook in any form outside these individuals without permission.\r\n",
        "\r\n",
        "Thank you for understanding, cheers!"
      ]
    },
    {
      "cell_type": "markdown",
      "metadata": {
        "id": "Hy-zJVGikqbE"
      },
      "source": [
        "## Outline\r\n",
        "\r\n",
        "- Definition of Machine Learning\r\n",
        "- Type of Machine Learning\r\n",
        "- Hands on! Loan Prediction\r\n"
      ]
    },
    {
      "cell_type": "markdown",
      "metadata": {
        "id": "laQ7cYa4hnIv"
      },
      "source": [
        "# **A. Definition**"
      ]
    },
    {
      "cell_type": "markdown",
      "metadata": {
        "id": "b-Qnn0NehxTV"
      },
      "source": [
        "* Machine learning is the subfield of computer science that gives \"computers the ability to learn without being explicitly programmed\". The term machine learning was coined in 1959 by **Arthur Samuel**, an American IBMer and pioneer in the field of computer gaming and artificial intelligence. \r\n",
        "\r\n",
        "* A computer program is said to learn from **Experience (E)** with respect to some class of **Tasks (T)** and **Performances Measure (P)**, if its performance at tasks in **T** , as measured by **P**, improves with experiences **E**.\r\n",
        "\r\n",
        "![michell-process-measure-improve.png](data:image/png;base64,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)\r\n",
        "\r\n",
        "\r\n",
        "Machine learning algorithms build a model based on sample data, known as \"training data\", in order to make predictions or decisions without being explicitly programmed to do so. Machine learning algorithms are used in a wide variety of applications, such as face recognition, online translator, map ETA prediction, etc."
      ]
    },
    {
      "cell_type": "markdown",
      "metadata": {
        "id": "44YCwP9Wbyys"
      },
      "source": [
        "# **B. Type of Machine Learning**"
      ]
    },
    {
      "cell_type": "markdown",
      "metadata": {
        "id": "b4Q7lb7Eb5w8"
      },
      "source": [
        "There are 3 (three) types of machine learning:\r\n",
        "1. Supervised Learning\r\n",
        "\r\n",
        "  This type of machine learning is trained with labeled data.\r\n",
        "Supervised learning learns through data whose output we already know and determine.\r\n",
        "\r\n",
        "  There are two types of common supervised learning:\r\n",
        "  * Regression\r\n",
        "  \r\n",
        "    used to predict a **continuous** value\r\n",
        "  *Classification\r\n",
        "\r\n",
        "    used to predict a **discrete** value\r\n",
        "\r\n",
        "2. Unsupervised Learning\r\n",
        "\r\n",
        "  This type of machine learning is trained with an unlabeled data.\r\n",
        "Unsupervised learning learns **something new** from the data, because there is **no desired output**.\r\n",
        "\r\n",
        "3. Reinforcement Learning \r\n",
        "  This type of machine learning features an algorithm that improves upon itself and learns from new situations. "
      ]
    },
    {
      "cell_type": "markdown",
      "metadata": {
        "id": "xfXIck7Eb55W"
      },
      "source": [
        "# **C.  Loan Prediction using Random Forest**"
      ]
    },
    {
      "cell_type": "markdown",
      "metadata": {
        "id": "JDsokMYd3k3w"
      },
      "source": [
        "Objective: to predict which customer will have their loans approved"
      ]
    },
    {
      "cell_type": "markdown",
      "metadata": {
        "id": "A-iyBaKucJi8"
      },
      "source": [
        "### **1. Data Gathering**\r\n"
      ]
    },
    {
      "cell_type": "markdown",
      "metadata": {
        "id": "UriHg4aNMWlS"
      },
      "source": [
        "The dataset used for this notebook is from:\r\n",
        "\r\n",
        "https://www.kaggle.com/altruistdelhite04/loan-prediction-problem-dataset\r\n",
        "\r\n",
        "There are lot of notebooks available there, kindy check it out!"
      ]
    },
    {
      "cell_type": "markdown",
      "metadata": {
        "id": "d14OvxnZ6lxd"
      },
      "source": [
        "##### 1.1. Import Library and Load Dataset"
      ]
    },
    {
      "cell_type": "code",
      "metadata": {
        "id": "bG0iLzc2b4e9"
      },
      "source": [
        "import numpy as np\r\n",
        "import pandas as pd\r\n",
        "import matplotlib.pyplot as plt\r\n",
        "%matplotlib inline\r\n",
        "import seaborn as sns\r\n",
        "sns.set()"
      ],
      "execution_count": 1,
      "outputs": []
    },
    {
      "cell_type": "markdown",
      "metadata": {
        "id": "llEp_4GCcm4r"
      },
      "source": [
        "##### 1.2. Import and Load Dataset"
      ]
    },
    {
      "cell_type": "code",
      "metadata": {
        "colab": {
          "resources": {
            "http://localhost:8080/nbextensions/google.colab/files.js": {
              "data": "Ly8gQ29weXJpZ2h0IDIwMTcgR29vZ2xlIExMQwovLwovLyBMaWNlbnNlZCB1bmRlciB0aGUgQXBhY2hlIExpY2Vuc2UsIFZlcnNpb24gMi4wICh0aGUgIkxpY2Vuc2UiKTsKLy8geW91IG1heSBub3QgdXNlIHRoaXMgZmlsZSBleGNlcHQgaW4gY29tcGxpYW5jZSB3aXRoIHRoZSBMaWNlbnNlLgovLyBZb3UgbWF5IG9idGFpbiBhIGNvcHkgb2YgdGhlIExpY2Vuc2UgYXQKLy8KLy8gICAgICBodHRwOi8vd3d3LmFwYWNoZS5vcmcvbGljZW5zZXMvTElDRU5TRS0yLjAKLy8KLy8gVW5sZXNzIHJlcXVpcmVkIGJ5IGFwcGxpY2FibGUgbGF3IG9yIGFncmVlZCB0byBpbiB3cml0aW5nLCBzb2Z0d2FyZQovLyBkaXN0cmlidXRlZCB1bmRlciB0aGUgTGljZW5zZSBpcyBkaXN0cmlidXRlZCBvbiBhbiAiQVMgSVMiIEJBU0lTLAovLyBXSVRIT1VUIFdBUlJBTlRJRVMgT1IgQ09ORElUSU9OUyBPRiBBTlkgS0lORCwgZWl0aGVyIGV4cHJlc3Mgb3IgaW1wbGllZC4KLy8gU2VlIHRoZSBMaWNlbnNlIGZvciB0aGUgc3BlY2lmaWMgbGFuZ3VhZ2UgZ292ZXJuaW5nIHBlcm1pc3Npb25zIGFuZAovLyBsaW1pdGF0aW9ucyB1bmRlciB0aGUgTGljZW5zZS4KCi8qKgogKiBAZmlsZW92ZXJ2aWV3IEhlbHBlcnMgZm9yIGdvb2dsZS5jb2xhYiBQeXRob24gbW9kdWxlLgogKi8KKGZ1bmN0aW9uKHNjb3BlKSB7CmZ1bmN0aW9uIHNwYW4odGV4dCwgc3R5bGVBdHRyaWJ1dGVzID0ge30pIHsKICBjb25zdCBlbGVtZW50ID0gZG9jdW1lbnQuY3JlYXRlRWxlbWVudCgnc3BhbicpOwogIGVsZW1lbnQudGV4dENvbnRlbnQgPSB0ZXh0OwogIGZvciAoY29uc3Qga2V5IG9mIE9iamVjdC5rZXlzKHN0eWxlQXR0cmlidXRlcykpIHsKICAgIGVsZW1lbnQuc3R5bGVba2V5XSA9IHN0eWxlQXR0cmlidXRlc1trZXldOwogIH0KICByZXR1cm4gZWxlbWVudDsKfQoKLy8gTWF4IG51bWJlciBvZiBieXRlcyB3aGljaCB3aWxsIGJlIHVwbG9hZGVkIGF0IGEgdGltZS4KY29uc3QgTUFYX1BBWUxPQURfU0laRSA9IDEwMCAqIDEwMjQ7CgpmdW5jdGlvbiBfdXBsb2FkRmlsZXMoaW5wdXRJZCwgb3V0cHV0SWQpIHsKICBjb25zdCBzdGVwcyA9IHVwbG9hZEZpbGVzU3RlcChpbnB1dElkLCBvdXRwdXRJZCk7CiAgY29uc3Qgb3V0cHV0RWxlbWVudCA9IGRvY3VtZW50LmdldEVsZW1lbnRCeUlkKG91dHB1dElkKTsKICAvLyBDYWNoZSBzdGVwcyBvbiB0aGUgb3V0cHV0RWxlbWVudCB0byBtYWtlIGl0IGF2YWlsYWJsZSBmb3IgdGhlIG5leHQgY2FsbAogIC8vIHRvIHVwbG9hZEZpbGVzQ29udGludWUgZnJvbSBQeXRob24uCiAgb3V0cHV0RWxlbWVudC5zdGVwcyA9IHN0ZXBzOwoKICByZXR1cm4gX3VwbG9hZEZpbGVzQ29udGludWUob3V0cHV0SWQpOwp9CgovLyBUaGlzIGlzIHJvdWdobHkgYW4gYXN5bmMgZ2VuZXJhdG9yIChub3Qgc3VwcG9ydGVkIGluIHRoZSBicm93c2VyIHlldCksCi8vIHdoZXJlIHRoZXJlIGFyZSBtdWx0aXBsZSBhc3luY2hyb25vdXMgc3RlcHMgYW5kIHRoZSBQeXRob24gc2lkZSBpcyBnb2luZwovLyB0byBwb2xsIGZvciBjb21wbGV0aW9uIG9mIGVhY2ggc3RlcC4KLy8gVGhpcyB1c2VzIGEgUHJvbWlzZSB0byBibG9jayB0aGUgcHl0aG9uIHNpZGUgb24gY29tcGxldGlvbiBvZiBlYWNoIHN0ZXAsCi8vIHRoZW4gcGFzc2VzIHRoZSByZXN1bHQgb2YgdGhlIHByZXZpb3VzIHN0ZXAgYXMgdGhlIGlucHV0IHRvIHRoZSBuZXh0IHN0ZXAuCmZ1bmN0aW9uIF91cGxvYWRGaWxlc0NvbnRpbnVlKG91dHB1dElkKSB7CiAgY29uc3Qgb3V0cHV0RWxlbWVudCA9IGRvY3VtZW50LmdldEVsZW1lbnRCeUlkKG91dHB1dElkKTsKICBjb25zdCBzdGVwcyA9IG91dHB1dEVsZW1lbnQuc3RlcHM7CgogIGNvbnN0IG5leHQgPSBzdGVwcy5uZXh0KG91dHB1dEVsZW1lbnQubGFzdFByb21pc2VWYWx1ZSk7CiAgcmV0dXJuIFByb21pc2UucmVzb2x2ZShuZXh0LnZhbHVlLnByb21pc2UpLnRoZW4oKHZhbHVlKSA9PiB7CiAgICAvLyBDYWNoZSB0aGUgbGFzdCBwcm9taXNlIHZhbHVlIHRvIG1ha2UgaXQgYXZhaWxhYmxlIHRvIHRoZSBuZXh0CiAgICAvLyBzdGVwIG9mIHRoZSBnZW5lcmF0b3IuCiAgICBvdXRwdXRFbGVtZW50Lmxhc3RQcm9taXNlVmFsdWUgPSB2YWx1ZTsKICAgIHJldHVybiBuZXh0LnZhbHVlLnJlc3BvbnNlOwogIH0pOwp9CgovKioKICogR2VuZXJhdG9yIGZ1bmN0aW9uIHdoaWNoIGlzIGNhbGxlZCBiZXR3ZWVuIGVhY2ggYXN5bmMgc3RlcCBvZiB0aGUgdXBsb2FkCiAqIHByb2Nlc3MuCiAqIEBwYXJhbSB7c3RyaW5nfSBpbnB1dElkIEVsZW1lbnQgSUQgb2YgdGhlIGlucHV0IGZpbGUgcGlja2VyIGVsZW1lbnQuCiAqIEBwYXJhbSB7c3RyaW5nfSBvdXRwdXRJZCBFbGVtZW50IElEIG9mIHRoZSBvdXRwdXQgZGlzcGxheS4KICogQHJldHVybiB7IUl0ZXJhYmxlPCFPYmplY3Q+fSBJdGVyYWJsZSBvZiBuZXh0IHN0ZXBzLgogKi8KZnVuY3Rpb24qIHVwbG9hZEZpbGVzU3RlcChpbnB1dElkLCBvdXRwdXRJZCkgewogIGNvbnN0IGlucHV0RWxlbWVudCA9IGRvY3VtZW50LmdldEVsZW1lbnRCeUlkKGlucHV0SWQpOwogIGlucHV0RWxlbWVudC5kaXNhYmxlZCA9IGZhbHNlOwoKICBjb25zdCBvdXRwdXRFbGVtZW50ID0gZG9jdW1lbnQuZ2V0RWxlbWVudEJ5SWQob3V0cHV0SWQpOwogIG91dHB1dEVsZW1lbnQuaW5uZXJIVE1MID0gJyc7CgogIGNvbnN0IHBpY2tlZFByb21pc2UgPSBuZXcgUHJvbWlzZSgocmVzb2x2ZSkgPT4gewogICAgaW5wdXRFbGVtZW50LmFkZEV2ZW50TGlzdGVuZXIoJ2NoYW5nZScsIChlKSA9PiB7CiAgICAgIHJlc29sdmUoZS50YXJnZXQuZmlsZXMpOwogICAgfSk7CiAgfSk7CgogIGNvbnN0IGNhbmNlbCA9IGRvY3VtZW50LmNyZWF0ZUVsZW1lbnQoJ2J1dHRvbicpOwogIGlucHV0RWxlbWVudC5wYXJlbnRFbGVtZW50LmFwcGVuZENoaWxkKGNhbmNlbCk7CiAgY2FuY2VsLnRleHRDb250ZW50ID0gJ0NhbmNlbCB1cGxvYWQnOwogIGNvbnN0IGNhbmNlbFByb21pc2UgPSBuZXcgUHJvbWlzZSgocmVzb2x2ZSkgPT4gewogICAgY2FuY2VsLm9uY2xpY2sgPSAoKSA9PiB7CiAgICAgIHJlc29sdmUobnVsbCk7CiAgICB9OwogIH0pOwoKICAvLyBXYWl0IGZvciB0aGUgdXNlciB0byBwaWNrIHRoZSBmaWxlcy4KICBjb25zdCBmaWxlcyA9IHlpZWxkIHsKICAgIHByb21pc2U6IFByb21pc2UucmFjZShbcGlja2VkUHJvbWlzZSwgY2FuY2VsUHJvbWlzZV0pLAogICAgcmVzcG9uc2U6IHsKICAgICAgYWN0aW9uOiAnc3RhcnRpbmcnLAogICAgfQogIH07CgogIGNhbmNlbC5yZW1vdmUoKTsKCiAgLy8gRGlzYWJsZSB0aGUgaW5wdXQgZWxlbWVudCBzaW5jZSBmdXJ0aGVyIHBpY2tzIGFyZSBub3QgYWxsb3dlZC4KICBpbnB1dEVsZW1lbnQuZGlzYWJsZWQgPSB0cnVlOwoKICBpZiAoIWZpbGVzKSB7CiAgICByZXR1cm4gewogICAgICByZXNwb25zZTogewogICAgICAgIGFjdGlvbjogJ2NvbXBsZXRlJywKICAgICAgfQogICAgfTsKICB9CgogIGZvciAoY29uc3QgZmlsZSBvZiBmaWxlcykgewogICAgY29uc3QgbGkgPSBkb2N1bWVudC5jcmVhdGVFbGVtZW50KCdsaScpOwogICAgbGkuYXBwZW5kKHNwYW4oZmlsZS5uYW1lLCB7Zm9udFdlaWdodDogJ2JvbGQnfSkpOwogICAgbGkuYXBwZW5kKHNwYW4oCiAgICAgICAgYCgke2ZpbGUudHlwZSB8fCAnbi9hJ30pIC0gJHtmaWxlLnNpemV9IGJ5dGVzLCBgICsKICAgICAgICBgbGFzdCBtb2RpZmllZDogJHsKICAgICAgICAgICAgZmlsZS5sYXN0TW9kaWZpZWREYXRlID8gZmlsZS5sYXN0TW9kaWZpZWREYXRlLnRvTG9jYWxlRGF0ZVN0cmluZygpIDoKICAgICAgICAgICAgICAgICAgICAgICAgICAgICAgICAgICAgJ24vYSd9IC0gYCkpOwogICAgY29uc3QgcGVyY2VudCA9IHNwYW4oJzAlIGRvbmUnKTsKICAgIGxpLmFwcGVuZENoaWxkKHBlcmNlbnQpOwoKICAgIG91dHB1dEVsZW1lbnQuYXBwZW5kQ2hpbGQobGkpOwoKICAgIGNvbnN0IGZpbGVEYXRhUHJvbWlzZSA9IG5ldyBQcm9taXNlKChyZXNvbHZlKSA9PiB7CiAgICAgIGNvbnN0IHJlYWRlciA9IG5ldyBGaWxlUmVhZGVyKCk7CiAgICAgIHJlYWRlci5vbmxvYWQgPSAoZSkgPT4gewogICAgICAgIHJlc29sdmUoZS50YXJnZXQucmVzdWx0KTsKICAgICAgfTsKICAgICAgcmVhZGVyLnJlYWRBc0FycmF5QnVmZmVyKGZpbGUpOwogICAgfSk7CiAgICAvLyBXYWl0IGZvciB0aGUgZGF0YSB0byBiZSByZWFkeS4KICAgIGxldCBmaWxlRGF0YSA9IHlpZWxkIHsKICAgICAgcHJvbWlzZTogZmlsZURhdGFQcm9taXNlLAogICAgICByZXNwb25zZTogewogICAgICAgIGFjdGlvbjogJ2NvbnRpbnVlJywKICAgICAgfQogICAgfTsKCiAgICAvLyBVc2UgYSBjaHVua2VkIHNlbmRpbmcgdG8gYXZvaWQgbWVzc2FnZSBzaXplIGxpbWl0cy4gU2VlIGIvNjIxMTU2NjAuCiAgICBsZXQgcG9zaXRpb24gPSAwOwogICAgd2hpbGUgKHBvc2l0aW9uIDwgZmlsZURhdGEuYnl0ZUxlbmd0aCkgewogICAgICBjb25zdCBsZW5ndGggPSBNYXRoLm1pbihmaWxlRGF0YS5ieXRlTGVuZ3RoIC0gcG9zaXRpb24sIE1BWF9QQVlMT0FEX1NJWkUpOwogICAgICBjb25zdCBjaHVuayA9IG5ldyBVaW50OEFycmF5KGZpbGVEYXRhLCBwb3NpdGlvbiwgbGVuZ3RoKTsKICAgICAgcG9zaXRpb24gKz0gbGVuZ3RoOwoKICAgICAgY29uc3QgYmFzZTY0ID0gYnRvYShTdHJpbmcuZnJvbUNoYXJDb2RlLmFwcGx5KG51bGwsIGNodW5rKSk7CiAgICAgIHlpZWxkIHsKICAgICAgICByZXNwb25zZTogewogICAgICAgICAgYWN0aW9uOiAnYXBwZW5kJywKICAgICAgICAgIGZpbGU6IGZpbGUubmFtZSwKICAgICAgICAgIGRhdGE6IGJhc2U2NCwKICAgICAgICB9LAogICAgICB9OwogICAgICBwZXJjZW50LnRleHRDb250ZW50ID0KICAgICAgICAgIGAke01hdGgucm91bmQoKHBvc2l0aW9uIC8gZmlsZURhdGEuYnl0ZUxlbmd0aCkgKiAxMDApfSUgZG9uZWA7CiAgICB9CiAgfQoKICAvLyBBbGwgZG9uZS4KICB5aWVsZCB7CiAgICByZXNwb25zZTogewogICAgICBhY3Rpb246ICdjb21wbGV0ZScsCiAgICB9CiAgfTsKfQoKc2NvcGUuZ29vZ2xlID0gc2NvcGUuZ29vZ2xlIHx8IHt9OwpzY29wZS5nb29nbGUuY29sYWIgPSBzY29wZS5nb29nbGUuY29sYWIgfHwge307CnNjb3BlLmdvb2dsZS5jb2xhYi5fZmlsZXMgPSB7CiAgX3VwbG9hZEZpbGVzLAogIF91cGxvYWRGaWxlc0NvbnRpbnVlLAp9Owp9KShzZWxmKTsK",
              "ok": true,
              "headers": [
                [
                  "content-type",
                  "application/javascript"
                ]
              ],
              "status": 200,
              "status_text": ""
            }
          },
          "base_uri": "https://localhost:8080/",
          "height": 73
        },
        "id": "6rYcpdHzttjZ",
        "outputId": "7998232a-01eb-4db4-d3be-0bff2645beb9"
      },
      "source": [
        "#Load the data\r\n",
        "from google.colab import files\r\n",
        "uploaded = files.upload()"
      ],
      "execution_count": 3,
      "outputs": [
        {
          "output_type": "display_data",
          "data": {
            "text/html": [
              "\n",
              "     <input type=\"file\" id=\"files-0f23ff60-e211-4a33-a976-3222e4bdf8ca\" name=\"files[]\" multiple disabled\n",
              "        style=\"border:none\" />\n",
              "     <output id=\"result-0f23ff60-e211-4a33-a976-3222e4bdf8ca\">\n",
              "      Upload widget is only available when the cell has been executed in the\n",
              "      current browser session. Please rerun this cell to enable.\n",
              "      </output>\n",
              "      <script src=\"/nbextensions/google.colab/files.js\"></script> "
            ],
            "text/plain": [
              "<IPython.core.display.HTML object>"
            ]
          },
          "metadata": {
            "tags": []
          }
        },
        {
          "output_type": "stream",
          "text": [
            "Saving train_u6lujuX_CVtuZ9i (1).csv to train_u6lujuX_CVtuZ9i (1).csv\n"
          ],
          "name": "stdout"
        }
      ]
    },
    {
      "cell_type": "code",
      "metadata": {
        "colab": {
          "base_uri": "https://localhost:8080/",
          "height": 436
        },
        "id": "9cd6cMSiuCxs",
        "outputId": "9e17a3c4-2420-4da9-90bc-488f1d3a2fad"
      },
      "source": [
        "df_train = pd.read_csv('train_u6lujuX_CVtuZ9i (1).csv')\r\n",
        "df_train"
      ],
      "execution_count": 4,
      "outputs": [
        {
          "output_type": "execute_result",
          "data": {
            "text/html": [
              "<div>\n",
              "<style scoped>\n",
              "    .dataframe tbody tr th:only-of-type {\n",
              "        vertical-align: middle;\n",
              "    }\n",
              "\n",
              "    .dataframe tbody tr th {\n",
              "        vertical-align: top;\n",
              "    }\n",
              "\n",
              "    .dataframe thead th {\n",
              "        text-align: right;\n",
              "    }\n",
              "</style>\n",
              "<table border=\"1\" class=\"dataframe\">\n",
              "  <thead>\n",
              "    <tr style=\"text-align: right;\">\n",
              "      <th></th>\n",
              "      <th>Loan_ID</th>\n",
              "      <th>Gender</th>\n",
              "      <th>Married</th>\n",
              "      <th>Dependents</th>\n",
              "      <th>Education</th>\n",
              "      <th>Self_Employed</th>\n",
              "      <th>ApplicantIncome</th>\n",
              "      <th>CoapplicantIncome</th>\n",
              "      <th>LoanAmount</th>\n",
              "      <th>Loan_Amount_Term</th>\n",
              "      <th>Credit_History</th>\n",
              "      <th>Property_Area</th>\n",
              "      <th>Loan_Status</th>\n",
              "    </tr>\n",
              "  </thead>\n",
              "  <tbody>\n",
              "    <tr>\n",
              "      <th>0</th>\n",
              "      <td>LP001002</td>\n",
              "      <td>Male</td>\n",
              "      <td>No</td>\n",
              "      <td>0</td>\n",
              "      <td>Graduate</td>\n",
              "      <td>No</td>\n",
              "      <td>5849</td>\n",
              "      <td>0.0</td>\n",
              "      <td>NaN</td>\n",
              "      <td>360.0</td>\n",
              "      <td>1.0</td>\n",
              "      <td>Urban</td>\n",
              "      <td>Y</td>\n",
              "    </tr>\n",
              "    <tr>\n",
              "      <th>1</th>\n",
              "      <td>LP001003</td>\n",
              "      <td>Male</td>\n",
              "      <td>Yes</td>\n",
              "      <td>1</td>\n",
              "      <td>Graduate</td>\n",
              "      <td>No</td>\n",
              "      <td>4583</td>\n",
              "      <td>1508.0</td>\n",
              "      <td>128.0</td>\n",
              "      <td>360.0</td>\n",
              "      <td>1.0</td>\n",
              "      <td>Rural</td>\n",
              "      <td>N</td>\n",
              "    </tr>\n",
              "    <tr>\n",
              "      <th>2</th>\n",
              "      <td>LP001005</td>\n",
              "      <td>Male</td>\n",
              "      <td>Yes</td>\n",
              "      <td>0</td>\n",
              "      <td>Graduate</td>\n",
              "      <td>Yes</td>\n",
              "      <td>3000</td>\n",
              "      <td>0.0</td>\n",
              "      <td>66.0</td>\n",
              "      <td>360.0</td>\n",
              "      <td>1.0</td>\n",
              "      <td>Urban</td>\n",
              "      <td>Y</td>\n",
              "    </tr>\n",
              "    <tr>\n",
              "      <th>3</th>\n",
              "      <td>LP001006</td>\n",
              "      <td>Male</td>\n",
              "      <td>Yes</td>\n",
              "      <td>0</td>\n",
              "      <td>Not Graduate</td>\n",
              "      <td>No</td>\n",
              "      <td>2583</td>\n",
              "      <td>2358.0</td>\n",
              "      <td>120.0</td>\n",
              "      <td>360.0</td>\n",
              "      <td>1.0</td>\n",
              "      <td>Urban</td>\n",
              "      <td>Y</td>\n",
              "    </tr>\n",
              "    <tr>\n",
              "      <th>4</th>\n",
              "      <td>LP001008</td>\n",
              "      <td>Male</td>\n",
              "      <td>No</td>\n",
              "      <td>0</td>\n",
              "      <td>Graduate</td>\n",
              "      <td>No</td>\n",
              "      <td>6000</td>\n",
              "      <td>0.0</td>\n",
              "      <td>141.0</td>\n",
              "      <td>360.0</td>\n",
              "      <td>1.0</td>\n",
              "      <td>Urban</td>\n",
              "      <td>Y</td>\n",
              "    </tr>\n",
              "    <tr>\n",
              "      <th>...</th>\n",
              "      <td>...</td>\n",
              "      <td>...</td>\n",
              "      <td>...</td>\n",
              "      <td>...</td>\n",
              "      <td>...</td>\n",
              "      <td>...</td>\n",
              "      <td>...</td>\n",
              "      <td>...</td>\n",
              "      <td>...</td>\n",
              "      <td>...</td>\n",
              "      <td>...</td>\n",
              "      <td>...</td>\n",
              "      <td>...</td>\n",
              "    </tr>\n",
              "    <tr>\n",
              "      <th>609</th>\n",
              "      <td>LP002978</td>\n",
              "      <td>Female</td>\n",
              "      <td>No</td>\n",
              "      <td>0</td>\n",
              "      <td>Graduate</td>\n",
              "      <td>No</td>\n",
              "      <td>2900</td>\n",
              "      <td>0.0</td>\n",
              "      <td>71.0</td>\n",
              "      <td>360.0</td>\n",
              "      <td>1.0</td>\n",
              "      <td>Rural</td>\n",
              "      <td>Y</td>\n",
              "    </tr>\n",
              "    <tr>\n",
              "      <th>610</th>\n",
              "      <td>LP002979</td>\n",
              "      <td>Male</td>\n",
              "      <td>Yes</td>\n",
              "      <td>3+</td>\n",
              "      <td>Graduate</td>\n",
              "      <td>No</td>\n",
              "      <td>4106</td>\n",
              "      <td>0.0</td>\n",
              "      <td>40.0</td>\n",
              "      <td>180.0</td>\n",
              "      <td>1.0</td>\n",
              "      <td>Rural</td>\n",
              "      <td>Y</td>\n",
              "    </tr>\n",
              "    <tr>\n",
              "      <th>611</th>\n",
              "      <td>LP002983</td>\n",
              "      <td>Male</td>\n",
              "      <td>Yes</td>\n",
              "      <td>1</td>\n",
              "      <td>Graduate</td>\n",
              "      <td>No</td>\n",
              "      <td>8072</td>\n",
              "      <td>240.0</td>\n",
              "      <td>253.0</td>\n",
              "      <td>360.0</td>\n",
              "      <td>1.0</td>\n",
              "      <td>Urban</td>\n",
              "      <td>Y</td>\n",
              "    </tr>\n",
              "    <tr>\n",
              "      <th>612</th>\n",
              "      <td>LP002984</td>\n",
              "      <td>Male</td>\n",
              "      <td>Yes</td>\n",
              "      <td>2</td>\n",
              "      <td>Graduate</td>\n",
              "      <td>No</td>\n",
              "      <td>7583</td>\n",
              "      <td>0.0</td>\n",
              "      <td>187.0</td>\n",
              "      <td>360.0</td>\n",
              "      <td>1.0</td>\n",
              "      <td>Urban</td>\n",
              "      <td>Y</td>\n",
              "    </tr>\n",
              "    <tr>\n",
              "      <th>613</th>\n",
              "      <td>LP002990</td>\n",
              "      <td>Female</td>\n",
              "      <td>No</td>\n",
              "      <td>0</td>\n",
              "      <td>Graduate</td>\n",
              "      <td>Yes</td>\n",
              "      <td>4583</td>\n",
              "      <td>0.0</td>\n",
              "      <td>133.0</td>\n",
              "      <td>360.0</td>\n",
              "      <td>0.0</td>\n",
              "      <td>Semiurban</td>\n",
              "      <td>N</td>\n",
              "    </tr>\n",
              "  </tbody>\n",
              "</table>\n",
              "<p>614 rows × 13 columns</p>\n",
              "</div>"
            ],
            "text/plain": [
              "      Loan_ID  Gender Married  ... Credit_History Property_Area Loan_Status\n",
              "0    LP001002    Male      No  ...            1.0         Urban           Y\n",
              "1    LP001003    Male     Yes  ...            1.0         Rural           N\n",
              "2    LP001005    Male     Yes  ...            1.0         Urban           Y\n",
              "3    LP001006    Male     Yes  ...            1.0         Urban           Y\n",
              "4    LP001008    Male      No  ...            1.0         Urban           Y\n",
              "..        ...     ...     ...  ...            ...           ...         ...\n",
              "609  LP002978  Female      No  ...            1.0         Rural           Y\n",
              "610  LP002979    Male     Yes  ...            1.0         Rural           Y\n",
              "611  LP002983    Male     Yes  ...            1.0         Urban           Y\n",
              "612  LP002984    Male     Yes  ...            1.0         Urban           Y\n",
              "613  LP002990  Female      No  ...            0.0     Semiurban           N\n",
              "\n",
              "[614 rows x 13 columns]"
            ]
          },
          "metadata": {
            "tags": []
          },
          "execution_count": 4
        }
      ]
    },
    {
      "cell_type": "markdown",
      "metadata": {
        "id": "Qk9zhBCh8a3d"
      },
      "source": [
        "#####1.3. Check the information of the dataset"
      ]
    },
    {
      "cell_type": "code",
      "metadata": {
        "colab": {
          "base_uri": "https://localhost:8080/"
        },
        "id": "7V_ucPOF8jXJ",
        "outputId": "f8c4ada1-2789-4a37-8e49-de3b874ac71d"
      },
      "source": [
        "df_train.info()"
      ],
      "execution_count": 5,
      "outputs": [
        {
          "output_type": "stream",
          "text": [
            "<class 'pandas.core.frame.DataFrame'>\n",
            "RangeIndex: 614 entries, 0 to 613\n",
            "Data columns (total 13 columns):\n",
            " #   Column             Non-Null Count  Dtype  \n",
            "---  ------             --------------  -----  \n",
            " 0   Loan_ID            614 non-null    object \n",
            " 1   Gender             601 non-null    object \n",
            " 2   Married            611 non-null    object \n",
            " 3   Dependents         599 non-null    object \n",
            " 4   Education          614 non-null    object \n",
            " 5   Self_Employed      582 non-null    object \n",
            " 6   ApplicantIncome    614 non-null    int64  \n",
            " 7   CoapplicantIncome  614 non-null    float64\n",
            " 8   LoanAmount         592 non-null    float64\n",
            " 9   Loan_Amount_Term   600 non-null    float64\n",
            " 10  Credit_History     564 non-null    float64\n",
            " 11  Property_Area      614 non-null    object \n",
            " 12  Loan_Status        614 non-null    object \n",
            "dtypes: float64(4), int64(1), object(8)\n",
            "memory usage: 62.5+ KB\n"
          ],
          "name": "stdout"
        }
      ]
    },
    {
      "cell_type": "markdown",
      "metadata": {
        "id": "OulAScdAM1Du"
      },
      "source": [
        "From the result, we can see that there are several types of data. For prediction purpose, we wish to only use the **numerical** types of data."
      ]
    },
    {
      "cell_type": "code",
      "metadata": {
        "colab": {
          "base_uri": "https://localhost:8080/",
          "height": 282
        },
        "id": "K9N6pG_T_Mdc",
        "outputId": "4a236494-65d2-4faa-e341-c941a51c0423"
      },
      "source": [
        "df_train.describe()"
      ],
      "execution_count": 6,
      "outputs": [
        {
          "output_type": "execute_result",
          "data": {
            "text/html": [
              "<div>\n",
              "<style scoped>\n",
              "    .dataframe tbody tr th:only-of-type {\n",
              "        vertical-align: middle;\n",
              "    }\n",
              "\n",
              "    .dataframe tbody tr th {\n",
              "        vertical-align: top;\n",
              "    }\n",
              "\n",
              "    .dataframe thead th {\n",
              "        text-align: right;\n",
              "    }\n",
              "</style>\n",
              "<table border=\"1\" class=\"dataframe\">\n",
              "  <thead>\n",
              "    <tr style=\"text-align: right;\">\n",
              "      <th></th>\n",
              "      <th>ApplicantIncome</th>\n",
              "      <th>CoapplicantIncome</th>\n",
              "      <th>LoanAmount</th>\n",
              "      <th>Loan_Amount_Term</th>\n",
              "      <th>Credit_History</th>\n",
              "    </tr>\n",
              "  </thead>\n",
              "  <tbody>\n",
              "    <tr>\n",
              "      <th>count</th>\n",
              "      <td>614.000000</td>\n",
              "      <td>614.000000</td>\n",
              "      <td>592.000000</td>\n",
              "      <td>600.00000</td>\n",
              "      <td>564.000000</td>\n",
              "    </tr>\n",
              "    <tr>\n",
              "      <th>mean</th>\n",
              "      <td>5403.459283</td>\n",
              "      <td>1621.245798</td>\n",
              "      <td>146.412162</td>\n",
              "      <td>342.00000</td>\n",
              "      <td>0.842199</td>\n",
              "    </tr>\n",
              "    <tr>\n",
              "      <th>std</th>\n",
              "      <td>6109.041673</td>\n",
              "      <td>2926.248369</td>\n",
              "      <td>85.587325</td>\n",
              "      <td>65.12041</td>\n",
              "      <td>0.364878</td>\n",
              "    </tr>\n",
              "    <tr>\n",
              "      <th>min</th>\n",
              "      <td>150.000000</td>\n",
              "      <td>0.000000</td>\n",
              "      <td>9.000000</td>\n",
              "      <td>12.00000</td>\n",
              "      <td>0.000000</td>\n",
              "    </tr>\n",
              "    <tr>\n",
              "      <th>25%</th>\n",
              "      <td>2877.500000</td>\n",
              "      <td>0.000000</td>\n",
              "      <td>100.000000</td>\n",
              "      <td>360.00000</td>\n",
              "      <td>1.000000</td>\n",
              "    </tr>\n",
              "    <tr>\n",
              "      <th>50%</th>\n",
              "      <td>3812.500000</td>\n",
              "      <td>1188.500000</td>\n",
              "      <td>128.000000</td>\n",
              "      <td>360.00000</td>\n",
              "      <td>1.000000</td>\n",
              "    </tr>\n",
              "    <tr>\n",
              "      <th>75%</th>\n",
              "      <td>5795.000000</td>\n",
              "      <td>2297.250000</td>\n",
              "      <td>168.000000</td>\n",
              "      <td>360.00000</td>\n",
              "      <td>1.000000</td>\n",
              "    </tr>\n",
              "    <tr>\n",
              "      <th>max</th>\n",
              "      <td>81000.000000</td>\n",
              "      <td>41667.000000</td>\n",
              "      <td>700.000000</td>\n",
              "      <td>480.00000</td>\n",
              "      <td>1.000000</td>\n",
              "    </tr>\n",
              "  </tbody>\n",
              "</table>\n",
              "</div>"
            ],
            "text/plain": [
              "       ApplicantIncome  CoapplicantIncome  ...  Loan_Amount_Term  Credit_History\n",
              "count       614.000000         614.000000  ...         600.00000      564.000000\n",
              "mean       5403.459283        1621.245798  ...         342.00000        0.842199\n",
              "std        6109.041673        2926.248369  ...          65.12041        0.364878\n",
              "min         150.000000           0.000000  ...          12.00000        0.000000\n",
              "25%        2877.500000           0.000000  ...         360.00000        1.000000\n",
              "50%        3812.500000        1188.500000  ...         360.00000        1.000000\n",
              "75%        5795.000000        2297.250000  ...         360.00000        1.000000\n",
              "max       81000.000000       41667.000000  ...         480.00000        1.000000\n",
              "\n",
              "[8 rows x 5 columns]"
            ]
          },
          "metadata": {
            "tags": []
          },
          "execution_count": 6
        }
      ]
    },
    {
      "cell_type": "markdown",
      "metadata": {
        "id": "MFbw_8m6NF2X"
      },
      "source": [
        "Knowing the statistical value of the data help us to know further to data transformation and analysis."
      ]
    },
    {
      "cell_type": "code",
      "metadata": {
        "colab": {
          "base_uri": "https://localhost:8080/"
        },
        "id": "fzBjfEHm_cJP",
        "outputId": "1995bc1b-3cd3-4dcf-f4fe-8ea89eee8dfc"
      },
      "source": [
        "#print all of the data types and their unique values\r\n",
        "for column in df_train.columns:\r\n",
        "  if df_train[column].dtype == object:\r\n",
        "    print(str(column) + ' : '+str(df_train[column].unique()))\r\n",
        "    print(df_train[column].value_counts())\r\n",
        "    print('_____________________________________________________________________')"
      ],
      "execution_count": 7,
      "outputs": [
        {
          "output_type": "stream",
          "text": [
            "Loan_ID : ['LP001002' 'LP001003' 'LP001005' 'LP001006' 'LP001008' 'LP001011'\n",
            " 'LP001013' 'LP001014' 'LP001018' 'LP001020' 'LP001024' 'LP001027'\n",
            " 'LP001028' 'LP001029' 'LP001030' 'LP001032' 'LP001034' 'LP001036'\n",
            " 'LP001038' 'LP001041' 'LP001043' 'LP001046' 'LP001047' 'LP001050'\n",
            " 'LP001052' 'LP001066' 'LP001068' 'LP001073' 'LP001086' 'LP001087'\n",
            " 'LP001091' 'LP001095' 'LP001097' 'LP001098' 'LP001100' 'LP001106'\n",
            " 'LP001109' 'LP001112' 'LP001114' 'LP001116' 'LP001119' 'LP001120'\n",
            " 'LP001123' 'LP001131' 'LP001136' 'LP001137' 'LP001138' 'LP001144'\n",
            " 'LP001146' 'LP001151' 'LP001155' 'LP001157' 'LP001164' 'LP001179'\n",
            " 'LP001186' 'LP001194' 'LP001195' 'LP001197' 'LP001198' 'LP001199'\n",
            " 'LP001205' 'LP001206' 'LP001207' 'LP001213' 'LP001222' 'LP001225'\n",
            " 'LP001228' 'LP001233' 'LP001238' 'LP001241' 'LP001243' 'LP001245'\n",
            " 'LP001248' 'LP001250' 'LP001253' 'LP001255' 'LP001256' 'LP001259'\n",
            " 'LP001263' 'LP001264' 'LP001265' 'LP001266' 'LP001267' 'LP001273'\n",
            " 'LP001275' 'LP001279' 'LP001280' 'LP001282' 'LP001289' 'LP001310'\n",
            " 'LP001316' 'LP001318' 'LP001319' 'LP001322' 'LP001325' 'LP001326'\n",
            " 'LP001327' 'LP001333' 'LP001334' 'LP001343' 'LP001345' 'LP001349'\n",
            " 'LP001350' 'LP001356' 'LP001357' 'LP001367' 'LP001369' 'LP001370'\n",
            " 'LP001379' 'LP001384' 'LP001385' 'LP001387' 'LP001391' 'LP001392'\n",
            " 'LP001398' 'LP001401' 'LP001404' 'LP001405' 'LP001421' 'LP001422'\n",
            " 'LP001426' 'LP001430' 'LP001431' 'LP001432' 'LP001439' 'LP001443'\n",
            " 'LP001448' 'LP001449' 'LP001451' 'LP001465' 'LP001469' 'LP001473'\n",
            " 'LP001478' 'LP001482' 'LP001487' 'LP001488' 'LP001489' 'LP001491'\n",
            " 'LP001492' 'LP001493' 'LP001497' 'LP001498' 'LP001504' 'LP001507'\n",
            " 'LP001508' 'LP001514' 'LP001516' 'LP001518' 'LP001519' 'LP001520'\n",
            " 'LP001528' 'LP001529' 'LP001531' 'LP001532' 'LP001535' 'LP001536'\n",
            " 'LP001541' 'LP001543' 'LP001546' 'LP001552' 'LP001560' 'LP001562'\n",
            " 'LP001565' 'LP001570' 'LP001572' 'LP001574' 'LP001577' 'LP001578'\n",
            " 'LP001579' 'LP001580' 'LP001581' 'LP001585' 'LP001586' 'LP001594'\n",
            " 'LP001603' 'LP001606' 'LP001608' 'LP001610' 'LP001616' 'LP001630'\n",
            " 'LP001633' 'LP001634' 'LP001636' 'LP001637' 'LP001639' 'LP001640'\n",
            " 'LP001641' 'LP001643' 'LP001644' 'LP001647' 'LP001653' 'LP001656'\n",
            " 'LP001657' 'LP001658' 'LP001664' 'LP001665' 'LP001666' 'LP001669'\n",
            " 'LP001671' 'LP001673' 'LP001674' 'LP001677' 'LP001682' 'LP001688'\n",
            " 'LP001691' 'LP001692' 'LP001693' 'LP001698' 'LP001699' 'LP001702'\n",
            " 'LP001708' 'LP001711' 'LP001713' 'LP001715' 'LP001716' 'LP001720'\n",
            " 'LP001722' 'LP001726' 'LP001732' 'LP001734' 'LP001736' 'LP001743'\n",
            " 'LP001744' 'LP001749' 'LP001750' 'LP001751' 'LP001754' 'LP001758'\n",
            " 'LP001760' 'LP001761' 'LP001765' 'LP001768' 'LP001770' 'LP001776'\n",
            " 'LP001778' 'LP001784' 'LP001786' 'LP001788' 'LP001790' 'LP001792'\n",
            " 'LP001798' 'LP001800' 'LP001806' 'LP001807' 'LP001811' 'LP001813'\n",
            " 'LP001814' 'LP001819' 'LP001824' 'LP001825' 'LP001835' 'LP001836'\n",
            " 'LP001841' 'LP001843' 'LP001844' 'LP001846' 'LP001849' 'LP001854'\n",
            " 'LP001859' 'LP001864' 'LP001865' 'LP001868' 'LP001870' 'LP001871'\n",
            " 'LP001872' 'LP001875' 'LP001877' 'LP001882' 'LP001883' 'LP001884'\n",
            " 'LP001888' 'LP001891' 'LP001892' 'LP001894' 'LP001896' 'LP001900'\n",
            " 'LP001903' 'LP001904' 'LP001907' 'LP001908' 'LP001910' 'LP001914'\n",
            " 'LP001915' 'LP001917' 'LP001922' 'LP001924' 'LP001925' 'LP001926'\n",
            " 'LP001931' 'LP001935' 'LP001936' 'LP001938' 'LP001940' 'LP001945'\n",
            " 'LP001947' 'LP001949' 'LP001953' 'LP001954' 'LP001955' 'LP001963'\n",
            " 'LP001964' 'LP001972' 'LP001974' 'LP001977' 'LP001978' 'LP001990'\n",
            " 'LP001993' 'LP001994' 'LP001996' 'LP001998' 'LP002002' 'LP002004'\n",
            " 'LP002006' 'LP002008' 'LP002024' 'LP002031' 'LP002035' 'LP002036'\n",
            " 'LP002043' 'LP002050' 'LP002051' 'LP002053' 'LP002054' 'LP002055'\n",
            " 'LP002065' 'LP002067' 'LP002068' 'LP002082' 'LP002086' 'LP002087'\n",
            " 'LP002097' 'LP002098' 'LP002100' 'LP002101' 'LP002103' 'LP002106'\n",
            " 'LP002110' 'LP002112' 'LP002113' 'LP002114' 'LP002115' 'LP002116'\n",
            " 'LP002119' 'LP002126' 'LP002128' 'LP002129' 'LP002130' 'LP002131'\n",
            " 'LP002137' 'LP002138' 'LP002139' 'LP002140' 'LP002141' 'LP002142'\n",
            " 'LP002143' 'LP002144' 'LP002149' 'LP002151' 'LP002158' 'LP002160'\n",
            " 'LP002161' 'LP002170' 'LP002175' 'LP002178' 'LP002180' 'LP002181'\n",
            " 'LP002187' 'LP002188' 'LP002190' 'LP002191' 'LP002194' 'LP002197'\n",
            " 'LP002201' 'LP002205' 'LP002209' 'LP002211' 'LP002219' 'LP002223'\n",
            " 'LP002224' 'LP002225' 'LP002226' 'LP002229' 'LP002231' 'LP002234'\n",
            " 'LP002236' 'LP002237' 'LP002239' 'LP002243' 'LP002244' 'LP002250'\n",
            " 'LP002255' 'LP002262' 'LP002263' 'LP002265' 'LP002266' 'LP002272'\n",
            " 'LP002277' 'LP002281' 'LP002284' 'LP002287' 'LP002288' 'LP002296'\n",
            " 'LP002297' 'LP002300' 'LP002301' 'LP002305' 'LP002308' 'LP002314'\n",
            " 'LP002315' 'LP002317' 'LP002318' 'LP002319' 'LP002328' 'LP002332'\n",
            " 'LP002335' 'LP002337' 'LP002341' 'LP002342' 'LP002345' 'LP002347'\n",
            " 'LP002348' 'LP002357' 'LP002361' 'LP002362' 'LP002364' 'LP002366'\n",
            " 'LP002367' 'LP002368' 'LP002369' 'LP002370' 'LP002377' 'LP002379'\n",
            " 'LP002386' 'LP002387' 'LP002390' 'LP002393' 'LP002398' 'LP002401'\n",
            " 'LP002403' 'LP002407' 'LP002408' 'LP002409' 'LP002418' 'LP002422'\n",
            " 'LP002424' 'LP002429' 'LP002434' 'LP002435' 'LP002443' 'LP002444'\n",
            " 'LP002446' 'LP002447' 'LP002448' 'LP002449' 'LP002453' 'LP002455'\n",
            " 'LP002459' 'LP002467' 'LP002472' 'LP002473' 'LP002478' 'LP002484'\n",
            " 'LP002487' 'LP002489' 'LP002493' 'LP002494' 'LP002500' 'LP002501'\n",
            " 'LP002502' 'LP002505' 'LP002515' 'LP002517' 'LP002519' 'LP002522'\n",
            " 'LP002524' 'LP002527' 'LP002529' 'LP002530' 'LP002531' 'LP002533'\n",
            " 'LP002534' 'LP002536' 'LP002537' 'LP002541' 'LP002543' 'LP002544'\n",
            " 'LP002545' 'LP002547' 'LP002555' 'LP002556' 'LP002560' 'LP002562'\n",
            " 'LP002571' 'LP002582' 'LP002585' 'LP002586' 'LP002587' 'LP002588'\n",
            " 'LP002600' 'LP002602' 'LP002603' 'LP002606' 'LP002615' 'LP002618'\n",
            " 'LP002619' 'LP002622' 'LP002624' 'LP002625' 'LP002626' 'LP002634'\n",
            " 'LP002637' 'LP002640' 'LP002643' 'LP002648' 'LP002652' 'LP002659'\n",
            " 'LP002670' 'LP002682' 'LP002683' 'LP002684' 'LP002689' 'LP002690'\n",
            " 'LP002692' 'LP002693' 'LP002697' 'LP002699' 'LP002705' 'LP002706'\n",
            " 'LP002714' 'LP002716' 'LP002717' 'LP002720' 'LP002723' 'LP002729'\n",
            " 'LP002731' 'LP002732' 'LP002734' 'LP002738' 'LP002739' 'LP002740'\n",
            " 'LP002741' 'LP002743' 'LP002753' 'LP002755' 'LP002757' 'LP002767'\n",
            " 'LP002768' 'LP002772' 'LP002776' 'LP002777' 'LP002778' 'LP002784'\n",
            " 'LP002785' 'LP002788' 'LP002789' 'LP002792' 'LP002794' 'LP002795'\n",
            " 'LP002798' 'LP002804' 'LP002807' 'LP002813' 'LP002820' 'LP002821'\n",
            " 'LP002832' 'LP002833' 'LP002836' 'LP002837' 'LP002840' 'LP002841'\n",
            " 'LP002842' 'LP002847' 'LP002855' 'LP002862' 'LP002863' 'LP002868'\n",
            " 'LP002872' 'LP002874' 'LP002877' 'LP002888' 'LP002892' 'LP002893'\n",
            " 'LP002894' 'LP002898' 'LP002911' 'LP002912' 'LP002916' 'LP002917'\n",
            " 'LP002925' 'LP002926' 'LP002928' 'LP002931' 'LP002933' 'LP002936'\n",
            " 'LP002938' 'LP002940' 'LP002941' 'LP002943' 'LP002945' 'LP002948'\n",
            " 'LP002949' 'LP002950' 'LP002953' 'LP002958' 'LP002959' 'LP002960'\n",
            " 'LP002961' 'LP002964' 'LP002974' 'LP002978' 'LP002979' 'LP002983'\n",
            " 'LP002984' 'LP002990']\n",
            "LP001345    1\n",
            "LP001195    1\n",
            "LP002741    1\n",
            "LP002054    1\n",
            "LP002345    1\n",
            "           ..\n",
            "LP002547    1\n",
            "LP001749    1\n",
            "LP002582    1\n",
            "LP001800    1\n",
            "LP001046    1\n",
            "Name: Loan_ID, Length: 614, dtype: int64\n",
            "_____________________________________________________________________\n",
            "Gender : ['Male' 'Female' nan]\n",
            "Male      489\n",
            "Female    112\n",
            "Name: Gender, dtype: int64\n",
            "_____________________________________________________________________\n",
            "Married : ['No' 'Yes' nan]\n",
            "Yes    398\n",
            "No     213\n",
            "Name: Married, dtype: int64\n",
            "_____________________________________________________________________\n",
            "Dependents : ['0' '1' '2' '3+' nan]\n",
            "0     345\n",
            "1     102\n",
            "2     101\n",
            "3+     51\n",
            "Name: Dependents, dtype: int64\n",
            "_____________________________________________________________________\n",
            "Education : ['Graduate' 'Not Graduate']\n",
            "Graduate        480\n",
            "Not Graduate    134\n",
            "Name: Education, dtype: int64\n",
            "_____________________________________________________________________\n",
            "Self_Employed : ['No' 'Yes' nan]\n",
            "No     500\n",
            "Yes     82\n",
            "Name: Self_Employed, dtype: int64\n",
            "_____________________________________________________________________\n",
            "Property_Area : ['Urban' 'Rural' 'Semiurban']\n",
            "Semiurban    233\n",
            "Urban        202\n",
            "Rural        179\n",
            "Name: Property_Area, dtype: int64\n",
            "_____________________________________________________________________\n",
            "Loan_Status : ['Y' 'N']\n",
            "Y    422\n",
            "N    192\n",
            "Name: Loan_Status, dtype: int64\n",
            "_____________________________________________________________________\n"
          ],
          "name": "stdout"
        }
      ]
    },
    {
      "cell_type": "markdown",
      "metadata": {
        "id": "zHTCjjm6ubXs"
      },
      "source": [
        "##### 1.4 Check Missing Values"
      ]
    },
    {
      "cell_type": "code",
      "metadata": {
        "colab": {
          "base_uri": "https://localhost:8080/"
        },
        "id": "V8fJzAa5uaRo",
        "outputId": "7d7d17b6-750e-420b-d0a6-9ca508fbd6a2"
      },
      "source": [
        "#Get a count of the missing values for each column\r\n",
        "df_train.isna().sum()"
      ],
      "execution_count": null,
      "outputs": [
        {
          "output_type": "execute_result",
          "data": {
            "text/plain": [
              "Loan_ID               0\n",
              "Gender               13\n",
              "Married               3\n",
              "Dependents           15\n",
              "Education             0\n",
              "Self_Employed        32\n",
              "ApplicantIncome       0\n",
              "CoapplicantIncome     0\n",
              "LoanAmount           22\n",
              "Loan_Amount_Term     14\n",
              "Credit_History       50\n",
              "Property_Area         0\n",
              "Loan_Status           0\n",
              "dtype: int64"
            ]
          },
          "metadata": {
            "tags": []
          },
          "execution_count": 188
        }
      ]
    },
    {
      "cell_type": "markdown",
      "metadata": {
        "id": "6q2lcLbLpGxz"
      },
      "source": [
        "### **2. Data Preprocessing**\r\n"
      ]
    },
    {
      "cell_type": "markdown",
      "metadata": {
        "id": "K1tdEHneCp29"
      },
      "source": [
        "Data preprocessing step is a step where we transform our data, from **raw** data into **understandable** data.\r\n",
        "\r\n",
        "We can transform our data using following techniques:\r\n",
        "1. Change missing values into it's statistical value\r\n",
        "2. Drop the data with missing value.\r\n",
        "3. Drop the redundant data\r\n",
        "4. Feature Engineering"
      ]
    },
    {
      "cell_type": "markdown",
      "metadata": {
        "id": "75IPDckIpYUK"
      },
      "source": [
        "#### **2.1 Handling Missing Value**\r\n",
        "\r\n"
      ]
    },
    {
      "cell_type": "markdown",
      "metadata": {
        "id": "G37bOyRyD_Nu"
      },
      "source": [
        "**Missing Values of `Gender`, `Married`, `Self_Employed`**"
      ]
    },
    {
      "cell_type": "code",
      "metadata": {
        "id": "WO4TRkhqD61N"
      },
      "source": [
        "df_train['Gender'] = df_train['Gender'].fillna(df_train['Gender'].mode())\r\n",
        "df_train['Married'] = df_train['Married'].fillna(df_train['Married'].mode())\r\n",
        "df_train['Self_Employed'] = df_train['Self_Employed'].fillna(df_train['Self_Employed'].mode())"
      ],
      "execution_count": 8,
      "outputs": []
    },
    {
      "cell_type": "markdown",
      "metadata": {
        "id": "1a3XLF0MF0Hp"
      },
      "source": [
        "**Missing Values of `LoanAmount`**"
      ]
    },
    {
      "cell_type": "code",
      "metadata": {
        "id": "LbfMvMTJIJqv"
      },
      "source": [
        "df_train['LoanAmount'] = df_train['LoanAmount'].fillna(df_train['LoanAmount'].mean())"
      ],
      "execution_count": 9,
      "outputs": []
    },
    {
      "cell_type": "markdown",
      "metadata": {
        "id": "tJol8ZzWGsBE"
      },
      "source": [
        "**Missing Values of `Credit_History`**"
      ]
    },
    {
      "cell_type": "code",
      "metadata": {
        "id": "_smViYDTIlRF"
      },
      "source": [
        "df_train['Credit_History'] = df_train['Credit_History'].fillna(df_train['Credit_History'].median())"
      ],
      "execution_count": 10,
      "outputs": []
    },
    {
      "cell_type": "markdown",
      "metadata": {
        "id": "I3F3tlv5Gwkw"
      },
      "source": [
        "**Missing Values of `Dependents` and `Loan_Amount_Term`**"
      ]
    },
    {
      "cell_type": "code",
      "metadata": {
        "id": "GL9O6BQ9J-H3"
      },
      "source": [
        "df_train.dropna(inplace=True)"
      ],
      "execution_count": 11,
      "outputs": []
    },
    {
      "cell_type": "markdown",
      "metadata": {
        "id": "AjmqnPLMKPp3"
      },
      "source": [
        "**Check again, and done!**"
      ]
    },
    {
      "cell_type": "code",
      "metadata": {
        "colab": {
          "base_uri": "https://localhost:8080/"
        },
        "id": "SrQHMBNFKLnZ",
        "outputId": "d079d866-c2e4-4ffc-d185-cc5e2bc4e5f5"
      },
      "source": [
        "#Get a count of the missing values for each column\r\n",
        "df_train.isna().sum()"
      ],
      "execution_count": 12,
      "outputs": [
        {
          "output_type": "execute_result",
          "data": {
            "text/plain": [
              "Loan_ID              0\n",
              "Gender               0\n",
              "Married              0\n",
              "Dependents           0\n",
              "Education            0\n",
              "Self_Employed        0\n",
              "ApplicantIncome      0\n",
              "CoapplicantIncome    0\n",
              "LoanAmount           0\n",
              "Loan_Amount_Term     0\n",
              "Credit_History       0\n",
              "Property_Area        0\n",
              "Loan_Status          0\n",
              "dtype: int64"
            ]
          },
          "metadata": {
            "tags": []
          },
          "execution_count": 12
        }
      ]
    },
    {
      "cell_type": "markdown",
      "metadata": {
        "id": "pz9Dic5TK2RQ"
      },
      "source": [
        "#### **2.2 Drop Redundant Feature**\r\n",
        "\r\n"
      ]
    },
    {
      "cell_type": "markdown",
      "metadata": {
        "id": "JlYbg-qhK-Jv"
      },
      "source": [
        "**Drop `Loan_ID` column from `df_train`**"
      ]
    },
    {
      "cell_type": "markdown",
      "metadata": {
        "id": "KEUzZp4jNlZU"
      },
      "source": [
        "`Loan_ID` is just a set of unique numbers, it doesn't works as a predictor at all. So, it's better to just remove it. "
      ]
    },
    {
      "cell_type": "code",
      "metadata": {
        "id": "QqjvA8T_K1YS"
      },
      "source": [
        "df_train.drop('Loan_ID', inplace=True, axis = 1)"
      ],
      "execution_count": 13,
      "outputs": []
    },
    {
      "cell_type": "code",
      "metadata": {
        "colab": {
          "base_uri": "https://localhost:8080/",
          "height": 436
        },
        "id": "Bb5Fh6YEL6lz",
        "outputId": "717b2fec-5abe-4d35-e131-986e1e78a842"
      },
      "source": [
        "df_train"
      ],
      "execution_count": 14,
      "outputs": [
        {
          "output_type": "execute_result",
          "data": {
            "text/html": [
              "<div>\n",
              "<style scoped>\n",
              "    .dataframe tbody tr th:only-of-type {\n",
              "        vertical-align: middle;\n",
              "    }\n",
              "\n",
              "    .dataframe tbody tr th {\n",
              "        vertical-align: top;\n",
              "    }\n",
              "\n",
              "    .dataframe thead th {\n",
              "        text-align: right;\n",
              "    }\n",
              "</style>\n",
              "<table border=\"1\" class=\"dataframe\">\n",
              "  <thead>\n",
              "    <tr style=\"text-align: right;\">\n",
              "      <th></th>\n",
              "      <th>Gender</th>\n",
              "      <th>Married</th>\n",
              "      <th>Dependents</th>\n",
              "      <th>Education</th>\n",
              "      <th>Self_Employed</th>\n",
              "      <th>ApplicantIncome</th>\n",
              "      <th>CoapplicantIncome</th>\n",
              "      <th>LoanAmount</th>\n",
              "      <th>Loan_Amount_Term</th>\n",
              "      <th>Credit_History</th>\n",
              "      <th>Property_Area</th>\n",
              "      <th>Loan_Status</th>\n",
              "    </tr>\n",
              "  </thead>\n",
              "  <tbody>\n",
              "    <tr>\n",
              "      <th>0</th>\n",
              "      <td>Male</td>\n",
              "      <td>No</td>\n",
              "      <td>0</td>\n",
              "      <td>Graduate</td>\n",
              "      <td>No</td>\n",
              "      <td>5849</td>\n",
              "      <td>0.0</td>\n",
              "      <td>146.412162</td>\n",
              "      <td>360.0</td>\n",
              "      <td>1.0</td>\n",
              "      <td>Urban</td>\n",
              "      <td>Y</td>\n",
              "    </tr>\n",
              "    <tr>\n",
              "      <th>1</th>\n",
              "      <td>Male</td>\n",
              "      <td>Yes</td>\n",
              "      <td>1</td>\n",
              "      <td>Graduate</td>\n",
              "      <td>No</td>\n",
              "      <td>4583</td>\n",
              "      <td>1508.0</td>\n",
              "      <td>128.000000</td>\n",
              "      <td>360.0</td>\n",
              "      <td>1.0</td>\n",
              "      <td>Rural</td>\n",
              "      <td>N</td>\n",
              "    </tr>\n",
              "    <tr>\n",
              "      <th>2</th>\n",
              "      <td>Male</td>\n",
              "      <td>Yes</td>\n",
              "      <td>0</td>\n",
              "      <td>Graduate</td>\n",
              "      <td>Yes</td>\n",
              "      <td>3000</td>\n",
              "      <td>0.0</td>\n",
              "      <td>66.000000</td>\n",
              "      <td>360.0</td>\n",
              "      <td>1.0</td>\n",
              "      <td>Urban</td>\n",
              "      <td>Y</td>\n",
              "    </tr>\n",
              "    <tr>\n",
              "      <th>3</th>\n",
              "      <td>Male</td>\n",
              "      <td>Yes</td>\n",
              "      <td>0</td>\n",
              "      <td>Not Graduate</td>\n",
              "      <td>No</td>\n",
              "      <td>2583</td>\n",
              "      <td>2358.0</td>\n",
              "      <td>120.000000</td>\n",
              "      <td>360.0</td>\n",
              "      <td>1.0</td>\n",
              "      <td>Urban</td>\n",
              "      <td>Y</td>\n",
              "    </tr>\n",
              "    <tr>\n",
              "      <th>4</th>\n",
              "      <td>Male</td>\n",
              "      <td>No</td>\n",
              "      <td>0</td>\n",
              "      <td>Graduate</td>\n",
              "      <td>No</td>\n",
              "      <td>6000</td>\n",
              "      <td>0.0</td>\n",
              "      <td>141.000000</td>\n",
              "      <td>360.0</td>\n",
              "      <td>1.0</td>\n",
              "      <td>Urban</td>\n",
              "      <td>Y</td>\n",
              "    </tr>\n",
              "    <tr>\n",
              "      <th>...</th>\n",
              "      <td>...</td>\n",
              "      <td>...</td>\n",
              "      <td>...</td>\n",
              "      <td>...</td>\n",
              "      <td>...</td>\n",
              "      <td>...</td>\n",
              "      <td>...</td>\n",
              "      <td>...</td>\n",
              "      <td>...</td>\n",
              "      <td>...</td>\n",
              "      <td>...</td>\n",
              "      <td>...</td>\n",
              "    </tr>\n",
              "    <tr>\n",
              "      <th>609</th>\n",
              "      <td>Female</td>\n",
              "      <td>No</td>\n",
              "      <td>0</td>\n",
              "      <td>Graduate</td>\n",
              "      <td>No</td>\n",
              "      <td>2900</td>\n",
              "      <td>0.0</td>\n",
              "      <td>71.000000</td>\n",
              "      <td>360.0</td>\n",
              "      <td>1.0</td>\n",
              "      <td>Rural</td>\n",
              "      <td>Y</td>\n",
              "    </tr>\n",
              "    <tr>\n",
              "      <th>610</th>\n",
              "      <td>Male</td>\n",
              "      <td>Yes</td>\n",
              "      <td>3+</td>\n",
              "      <td>Graduate</td>\n",
              "      <td>No</td>\n",
              "      <td>4106</td>\n",
              "      <td>0.0</td>\n",
              "      <td>40.000000</td>\n",
              "      <td>180.0</td>\n",
              "      <td>1.0</td>\n",
              "      <td>Rural</td>\n",
              "      <td>Y</td>\n",
              "    </tr>\n",
              "    <tr>\n",
              "      <th>611</th>\n",
              "      <td>Male</td>\n",
              "      <td>Yes</td>\n",
              "      <td>1</td>\n",
              "      <td>Graduate</td>\n",
              "      <td>No</td>\n",
              "      <td>8072</td>\n",
              "      <td>240.0</td>\n",
              "      <td>253.000000</td>\n",
              "      <td>360.0</td>\n",
              "      <td>1.0</td>\n",
              "      <td>Urban</td>\n",
              "      <td>Y</td>\n",
              "    </tr>\n",
              "    <tr>\n",
              "      <th>612</th>\n",
              "      <td>Male</td>\n",
              "      <td>Yes</td>\n",
              "      <td>2</td>\n",
              "      <td>Graduate</td>\n",
              "      <td>No</td>\n",
              "      <td>7583</td>\n",
              "      <td>0.0</td>\n",
              "      <td>187.000000</td>\n",
              "      <td>360.0</td>\n",
              "      <td>1.0</td>\n",
              "      <td>Urban</td>\n",
              "      <td>Y</td>\n",
              "    </tr>\n",
              "    <tr>\n",
              "      <th>613</th>\n",
              "      <td>Female</td>\n",
              "      <td>No</td>\n",
              "      <td>0</td>\n",
              "      <td>Graduate</td>\n",
              "      <td>Yes</td>\n",
              "      <td>4583</td>\n",
              "      <td>0.0</td>\n",
              "      <td>133.000000</td>\n",
              "      <td>360.0</td>\n",
              "      <td>0.0</td>\n",
              "      <td>Semiurban</td>\n",
              "      <td>N</td>\n",
              "    </tr>\n",
              "  </tbody>\n",
              "</table>\n",
              "<p>542 rows × 12 columns</p>\n",
              "</div>"
            ],
            "text/plain": [
              "     Gender Married Dependents  ... Credit_History Property_Area  Loan_Status\n",
              "0      Male      No          0  ...            1.0         Urban            Y\n",
              "1      Male     Yes          1  ...            1.0         Rural            N\n",
              "2      Male     Yes          0  ...            1.0         Urban            Y\n",
              "3      Male     Yes          0  ...            1.0         Urban            Y\n",
              "4      Male      No          0  ...            1.0         Urban            Y\n",
              "..      ...     ...        ...  ...            ...           ...          ...\n",
              "609  Female      No          0  ...            1.0         Rural            Y\n",
              "610    Male     Yes         3+  ...            1.0         Rural            Y\n",
              "611    Male     Yes          1  ...            1.0         Urban            Y\n",
              "612    Male     Yes          2  ...            1.0         Urban            Y\n",
              "613  Female      No          0  ...            0.0     Semiurban            N\n",
              "\n",
              "[542 rows x 12 columns]"
            ]
          },
          "metadata": {
            "tags": []
          },
          "execution_count": 14
        }
      ]
    },
    {
      "cell_type": "markdown",
      "metadata": {
        "id": "N3pjmRTANXPA"
      },
      "source": [
        "#### **2.3 Object Type Mapping into Numerical Values**\r\n",
        "\r\n"
      ]
    },
    {
      "cell_type": "markdown",
      "metadata": {
        "id": "Xa9N0U1-N73a"
      },
      "source": [
        "An object type data can not be used as a **variable predictor.** In that way, we need to change the type by mapping it to the other type of data."
      ]
    },
    {
      "cell_type": "markdown",
      "metadata": {
        "id": "TwCWa-GfObZx"
      },
      "source": [
        "\r\n",
        "\r\n",
        "*   `Gender`\r\n",
        "\r\n",
        "\r\n"
      ]
    },
    {
      "cell_type": "code",
      "metadata": {
        "id": "82lipr6dOn1s"
      },
      "source": [
        "df_train.Gender = df_train.Gender.map({'Male':1, 'Female':0})"
      ],
      "execution_count": 16,
      "outputs": []
    },
    {
      "cell_type": "markdown",
      "metadata": {
        "id": "-gqqzjzgP6DI"
      },
      "source": [
        "\r\n",
        "\r\n",
        "*   `Married`\r\n",
        "\r\n",
        "\r\n"
      ]
    },
    {
      "cell_type": "code",
      "metadata": {
        "id": "aBMfPP8LQtF3"
      },
      "source": [
        "df_train.Married = df_train.Married.map({'Yes':1, 'No':0})"
      ],
      "execution_count": 17,
      "outputs": []
    },
    {
      "cell_type": "markdown",
      "metadata": {
        "id": "Ztwyke3ZQWEV"
      },
      "source": [
        "\r\n",
        "\r\n",
        "*   `Education`\r\n",
        "\r\n",
        "\r\n"
      ]
    },
    {
      "cell_type": "code",
      "metadata": {
        "id": "zVTFgPgTQ3Mj"
      },
      "source": [
        "df_train.Education = df_train.Education.map({'Graduate':1, 'Not Graduate':0})"
      ],
      "execution_count": 18,
      "outputs": []
    },
    {
      "cell_type": "markdown",
      "metadata": {
        "id": "LJghg8AAP6aZ"
      },
      "source": [
        "\r\n",
        "\r\n",
        "*   `Self_Employed`\r\n",
        "\r\n",
        "\r\n"
      ]
    },
    {
      "cell_type": "code",
      "metadata": {
        "id": "igxBLl2vQ_jV"
      },
      "source": [
        "df_train.Self_Employed = df_train.Self_Employed.map({'Yes':1, 'No':0})"
      ],
      "execution_count": 19,
      "outputs": []
    },
    {
      "cell_type": "markdown",
      "metadata": {
        "id": "eS3xJWJ0QG_G"
      },
      "source": [
        "\r\n",
        "\r\n",
        "*   `Dependents`\r\n",
        "\r\n",
        "\r\n"
      ]
    },
    {
      "cell_type": "code",
      "metadata": {
        "id": "KoDKKAFrRJkz"
      },
      "source": [
        "df_train.Dependents = df_train.Dependents.map({'0':0, '1':1, '2':2, '3+':3})"
      ],
      "execution_count": 20,
      "outputs": []
    },
    {
      "cell_type": "markdown",
      "metadata": {
        "id": "9P2d87WBQZ--"
      },
      "source": [
        "\r\n",
        "\r\n",
        "*   `Property_Area`\r\n",
        "\r\n",
        "\r\n"
      ]
    },
    {
      "cell_type": "code",
      "metadata": {
        "id": "aW-RAV7BRasV"
      },
      "source": [
        "df_train.Property_Area = df_train.Property_Area.map({'Urban':1, 'Rural':0, 'Semiurban':2})"
      ],
      "execution_count": 21,
      "outputs": []
    },
    {
      "cell_type": "markdown",
      "metadata": {
        "id": "eLRXrJ6YQaQX"
      },
      "source": [
        "\r\n",
        "\r\n",
        "*   `Loan_Status`\r\n",
        "\r\n",
        "\r\n"
      ]
    },
    {
      "cell_type": "code",
      "metadata": {
        "colab": {
          "base_uri": "https://localhost:8080/"
        },
        "id": "410wbhMzRysV",
        "outputId": "ec76b047-431f-476a-9d76-60c408674fe0"
      },
      "source": [
        "df_train.Loan_Status = df_train.Loan_Status.map({'Y':1, 'N':0})\r\n",
        "df_train.dtypes"
      ],
      "execution_count": 22,
      "outputs": [
        {
          "output_type": "execute_result",
          "data": {
            "text/plain": [
              "Gender                 int64\n",
              "Married                int64\n",
              "Dependents             int64\n",
              "Education              int64\n",
              "Self_Employed          int64\n",
              "ApplicantIncome        int64\n",
              "CoapplicantIncome    float64\n",
              "LoanAmount           float64\n",
              "Loan_Amount_Term     float64\n",
              "Credit_History       float64\n",
              "Property_Area          int64\n",
              "Loan_Status            int64\n",
              "dtype: object"
            ]
          },
          "metadata": {
            "tags": []
          },
          "execution_count": 22
        }
      ]
    },
    {
      "cell_type": "code",
      "metadata": {
        "colab": {
          "base_uri": "https://localhost:8080/",
          "height": 419
        },
        "id": "VB8JcC-Nbhg6",
        "outputId": "cf945611-f3e3-41bb-b149-bc7db2a2db1b"
      },
      "source": [
        "df_train"
      ],
      "execution_count": 23,
      "outputs": [
        {
          "output_type": "execute_result",
          "data": {
            "text/html": [
              "<div>\n",
              "<style scoped>\n",
              "    .dataframe tbody tr th:only-of-type {\n",
              "        vertical-align: middle;\n",
              "    }\n",
              "\n",
              "    .dataframe tbody tr th {\n",
              "        vertical-align: top;\n",
              "    }\n",
              "\n",
              "    .dataframe thead th {\n",
              "        text-align: right;\n",
              "    }\n",
              "</style>\n",
              "<table border=\"1\" class=\"dataframe\">\n",
              "  <thead>\n",
              "    <tr style=\"text-align: right;\">\n",
              "      <th></th>\n",
              "      <th>Gender</th>\n",
              "      <th>Married</th>\n",
              "      <th>Dependents</th>\n",
              "      <th>Education</th>\n",
              "      <th>Self_Employed</th>\n",
              "      <th>ApplicantIncome</th>\n",
              "      <th>CoapplicantIncome</th>\n",
              "      <th>LoanAmount</th>\n",
              "      <th>Loan_Amount_Term</th>\n",
              "      <th>Credit_History</th>\n",
              "      <th>Property_Area</th>\n",
              "      <th>Loan_Status</th>\n",
              "    </tr>\n",
              "  </thead>\n",
              "  <tbody>\n",
              "    <tr>\n",
              "      <th>0</th>\n",
              "      <td>1</td>\n",
              "      <td>0</td>\n",
              "      <td>0</td>\n",
              "      <td>1</td>\n",
              "      <td>0</td>\n",
              "      <td>5849</td>\n",
              "      <td>0.0</td>\n",
              "      <td>146.412162</td>\n",
              "      <td>360.0</td>\n",
              "      <td>1.0</td>\n",
              "      <td>1</td>\n",
              "      <td>1</td>\n",
              "    </tr>\n",
              "    <tr>\n",
              "      <th>1</th>\n",
              "      <td>1</td>\n",
              "      <td>1</td>\n",
              "      <td>1</td>\n",
              "      <td>1</td>\n",
              "      <td>0</td>\n",
              "      <td>4583</td>\n",
              "      <td>1508.0</td>\n",
              "      <td>128.000000</td>\n",
              "      <td>360.0</td>\n",
              "      <td>1.0</td>\n",
              "      <td>0</td>\n",
              "      <td>0</td>\n",
              "    </tr>\n",
              "    <tr>\n",
              "      <th>2</th>\n",
              "      <td>1</td>\n",
              "      <td>1</td>\n",
              "      <td>0</td>\n",
              "      <td>1</td>\n",
              "      <td>1</td>\n",
              "      <td>3000</td>\n",
              "      <td>0.0</td>\n",
              "      <td>66.000000</td>\n",
              "      <td>360.0</td>\n",
              "      <td>1.0</td>\n",
              "      <td>1</td>\n",
              "      <td>1</td>\n",
              "    </tr>\n",
              "    <tr>\n",
              "      <th>3</th>\n",
              "      <td>1</td>\n",
              "      <td>1</td>\n",
              "      <td>0</td>\n",
              "      <td>0</td>\n",
              "      <td>0</td>\n",
              "      <td>2583</td>\n",
              "      <td>2358.0</td>\n",
              "      <td>120.000000</td>\n",
              "      <td>360.0</td>\n",
              "      <td>1.0</td>\n",
              "      <td>1</td>\n",
              "      <td>1</td>\n",
              "    </tr>\n",
              "    <tr>\n",
              "      <th>4</th>\n",
              "      <td>1</td>\n",
              "      <td>0</td>\n",
              "      <td>0</td>\n",
              "      <td>1</td>\n",
              "      <td>0</td>\n",
              "      <td>6000</td>\n",
              "      <td>0.0</td>\n",
              "      <td>141.000000</td>\n",
              "      <td>360.0</td>\n",
              "      <td>1.0</td>\n",
              "      <td>1</td>\n",
              "      <td>1</td>\n",
              "    </tr>\n",
              "    <tr>\n",
              "      <th>...</th>\n",
              "      <td>...</td>\n",
              "      <td>...</td>\n",
              "      <td>...</td>\n",
              "      <td>...</td>\n",
              "      <td>...</td>\n",
              "      <td>...</td>\n",
              "      <td>...</td>\n",
              "      <td>...</td>\n",
              "      <td>...</td>\n",
              "      <td>...</td>\n",
              "      <td>...</td>\n",
              "      <td>...</td>\n",
              "    </tr>\n",
              "    <tr>\n",
              "      <th>609</th>\n",
              "      <td>0</td>\n",
              "      <td>0</td>\n",
              "      <td>0</td>\n",
              "      <td>1</td>\n",
              "      <td>0</td>\n",
              "      <td>2900</td>\n",
              "      <td>0.0</td>\n",
              "      <td>71.000000</td>\n",
              "      <td>360.0</td>\n",
              "      <td>1.0</td>\n",
              "      <td>0</td>\n",
              "      <td>1</td>\n",
              "    </tr>\n",
              "    <tr>\n",
              "      <th>610</th>\n",
              "      <td>1</td>\n",
              "      <td>1</td>\n",
              "      <td>3</td>\n",
              "      <td>1</td>\n",
              "      <td>0</td>\n",
              "      <td>4106</td>\n",
              "      <td>0.0</td>\n",
              "      <td>40.000000</td>\n",
              "      <td>180.0</td>\n",
              "      <td>1.0</td>\n",
              "      <td>0</td>\n",
              "      <td>1</td>\n",
              "    </tr>\n",
              "    <tr>\n",
              "      <th>611</th>\n",
              "      <td>1</td>\n",
              "      <td>1</td>\n",
              "      <td>1</td>\n",
              "      <td>1</td>\n",
              "      <td>0</td>\n",
              "      <td>8072</td>\n",
              "      <td>240.0</td>\n",
              "      <td>253.000000</td>\n",
              "      <td>360.0</td>\n",
              "      <td>1.0</td>\n",
              "      <td>1</td>\n",
              "      <td>1</td>\n",
              "    </tr>\n",
              "    <tr>\n",
              "      <th>612</th>\n",
              "      <td>1</td>\n",
              "      <td>1</td>\n",
              "      <td>2</td>\n",
              "      <td>1</td>\n",
              "      <td>0</td>\n",
              "      <td>7583</td>\n",
              "      <td>0.0</td>\n",
              "      <td>187.000000</td>\n",
              "      <td>360.0</td>\n",
              "      <td>1.0</td>\n",
              "      <td>1</td>\n",
              "      <td>1</td>\n",
              "    </tr>\n",
              "    <tr>\n",
              "      <th>613</th>\n",
              "      <td>0</td>\n",
              "      <td>0</td>\n",
              "      <td>0</td>\n",
              "      <td>1</td>\n",
              "      <td>1</td>\n",
              "      <td>4583</td>\n",
              "      <td>0.0</td>\n",
              "      <td>133.000000</td>\n",
              "      <td>360.0</td>\n",
              "      <td>0.0</td>\n",
              "      <td>2</td>\n",
              "      <td>0</td>\n",
              "    </tr>\n",
              "  </tbody>\n",
              "</table>\n",
              "<p>542 rows × 12 columns</p>\n",
              "</div>"
            ],
            "text/plain": [
              "     Gender  Married  Dependents  ...  Credit_History  Property_Area  Loan_Status\n",
              "0         1        0           0  ...             1.0              1            1\n",
              "1         1        1           1  ...             1.0              0            0\n",
              "2         1        1           0  ...             1.0              1            1\n",
              "3         1        1           0  ...             1.0              1            1\n",
              "4         1        0           0  ...             1.0              1            1\n",
              "..      ...      ...         ...  ...             ...            ...          ...\n",
              "609       0        0           0  ...             1.0              0            1\n",
              "610       1        1           3  ...             1.0              0            1\n",
              "611       1        1           1  ...             1.0              1            1\n",
              "612       1        1           2  ...             1.0              1            1\n",
              "613       0        0           0  ...             0.0              2            0\n",
              "\n",
              "[542 rows x 12 columns]"
            ]
          },
          "metadata": {
            "tags": []
          },
          "execution_count": 23
        }
      ]
    },
    {
      "cell_type": "markdown",
      "metadata": {
        "id": "a_OSBNEgR7_j"
      },
      "source": [
        "####**2.4. Let's Visualize!**"
      ]
    },
    {
      "cell_type": "code",
      "metadata": {
        "colab": {
          "base_uri": "https://localhost:8080/",
          "height": 934
        },
        "id": "PIJED_lFTBv_",
        "outputId": "cc050c5a-3b57-4865-9719-94e5c0885ab4"
      },
      "source": [
        "fig, axes = plt.subplots(2, 3, figsize=(20,10))\r\n",
        "\r\n",
        "fig.suptitle('Each Column Value Counts')\r\n",
        "\r\n",
        "sns.countplot(df_train['Gender'], hue = df_train['Loan_Status'], ax=axes[0, 0], palette='rainbow')\r\n",
        "sns.countplot(df_train['Married'], hue = df_train['Loan_Status'], ax=axes[0, 1], palette='rainbow')\r\n",
        "sns.countplot(df_train['Education'], hue = df_train['Loan_Status'], ax=axes[0, 2], palette='rainbow')\r\n",
        "sns.countplot(df_train['Self_Employed'], hue = df_train['Loan_Status'], ax=axes[1, 0], palette='rainbow')\r\n",
        "sns.countplot(df_train['Dependents'], hue = df_train['Loan_Status'], ax=axes[1, 1], palette='rainbow')\r\n",
        "sns.countplot(df_train['Property_Area'], hue = df_train['Loan_Status'], ax=axes[1, 2], palette='rainbow')"
      ],
      "execution_count": 24,
      "outputs": [
        {
          "output_type": "stream",
          "text": [
            "/usr/local/lib/python3.6/dist-packages/seaborn/_decorators.py:43: FutureWarning: Pass the following variable as a keyword arg: x. From version 0.12, the only valid positional argument will be `data`, and passing other arguments without an explicit keyword will result in an error or misinterpretation.\n",
            "  FutureWarning\n",
            "/usr/local/lib/python3.6/dist-packages/seaborn/_decorators.py:43: FutureWarning: Pass the following variable as a keyword arg: x. From version 0.12, the only valid positional argument will be `data`, and passing other arguments without an explicit keyword will result in an error or misinterpretation.\n",
            "  FutureWarning\n",
            "/usr/local/lib/python3.6/dist-packages/seaborn/_decorators.py:43: FutureWarning: Pass the following variable as a keyword arg: x. From version 0.12, the only valid positional argument will be `data`, and passing other arguments without an explicit keyword will result in an error or misinterpretation.\n",
            "  FutureWarning\n",
            "/usr/local/lib/python3.6/dist-packages/seaborn/_decorators.py:43: FutureWarning: Pass the following variable as a keyword arg: x. From version 0.12, the only valid positional argument will be `data`, and passing other arguments without an explicit keyword will result in an error or misinterpretation.\n",
            "  FutureWarning\n",
            "/usr/local/lib/python3.6/dist-packages/seaborn/_decorators.py:43: FutureWarning: Pass the following variable as a keyword arg: x. From version 0.12, the only valid positional argument will be `data`, and passing other arguments without an explicit keyword will result in an error or misinterpretation.\n",
            "  FutureWarning\n",
            "/usr/local/lib/python3.6/dist-packages/seaborn/_decorators.py:43: FutureWarning: Pass the following variable as a keyword arg: x. From version 0.12, the only valid positional argument will be `data`, and passing other arguments without an explicit keyword will result in an error or misinterpretation.\n",
            "  FutureWarning\n"
          ],
          "name": "stderr"
        },
        {
          "output_type": "execute_result",
          "data": {
            "text/plain": [
              "<matplotlib.axes._subplots.AxesSubplot at 0x7f23d7c75390>"
            ]
          },
          "metadata": {
            "tags": []
          },
          "execution_count": 24
        },
        {
          "output_type": "display_data",
          "data": {
            "image/png": "[encoded data removed]",
            "text/plain": [
              "<Figure size 1440x720 with 6 Axes>"
            ]
          },
          "metadata": {
            "tags": [],
            "needs_background": "light"
          }
        }
      ]
    },
    {
      "cell_type": "code",
      "metadata": {
        "colab": {
          "base_uri": "https://localhost:8080/"
        },
        "id": "B1MUE4moc4bb",
        "outputId": "efb97136-f905-477d-c271-c59fc6699382"
      },
      "source": [
        "#print all of the data types and their unique values\r\n",
        "for column in df_train.columns:\r\n",
        "  if df_train[column].dtype == int:\r\n",
        "    print(str(column) + ' : '+str(df_train[column].unique()))\r\n",
        "    print(df_train[column].value_counts())\r\n",
        "    print('_____________________________________________________________________')"
      ],
      "execution_count": 25,
      "outputs": [
        {
          "output_type": "stream",
          "text": [
            "Gender : [1 0]\n",
            "1    444\n",
            "0     98\n",
            "Name: Gender, dtype: int64\n",
            "_____________________________________________________________________\n",
            "Married : [0 1]\n",
            "1    355\n",
            "0    187\n",
            "Name: Married, dtype: int64\n",
            "_____________________________________________________________________\n",
            "Dependents : [0 1 2 3]\n",
            "0    309\n",
            "2     94\n",
            "1     94\n",
            "3     45\n",
            "Name: Dependents, dtype: int64\n",
            "_____________________________________________________________________\n",
            "Education : [1 0]\n",
            "1    425\n",
            "0    117\n",
            "Name: Education, dtype: int64\n",
            "_____________________________________________________________________\n",
            "Self_Employed : [0 1]\n",
            "0    467\n",
            "1     75\n",
            "Name: Self_Employed, dtype: int64\n",
            "_____________________________________________________________________\n",
            "ApplicantIncome : [ 5849  4583  3000  2583  6000  5417  2333  3036  4006 12841  3200  3073\n",
            "  1853  1299  4950  3596  3510  4887  7660  5955  2600  9560  2799  4226\n",
            "  1442  3167  4692  3500 12500  2275  3667  4166  3748  3600  1800  2400\n",
            "  3941  5649  5821  2645  4000  1928  3086  4230  4616 11500  2708  2132\n",
            "  3366  8080  3357  2500  3029  2609  4945  5726 10750  7100  4300  3208\n",
            "  1875  5266  3750  1000  3333  3846  2395  1378  3988  2366  8566  5695\n",
            "  2958  6250  3273  4133  3620  2484  1977  4188  1759  4288  4843  4652\n",
            "  3052 11417  3800  2071  5316  7451 14583  2214  5568 10408  2137  2957\n",
            "  3692  3865 10513  6080 20166  2014  2718  3459  4895  3316 14999  4200\n",
            "  5042  6950  2698 11757  2330 14866  1538 10000  4860  6277  2577  9166\n",
            "  2281  3254 39999  9538  1863  7933  3089  4167  9323  2439  2237  8000\n",
            "  3522  5708  4344  3497  2045  5516  6400  1916  4600 33846  3625 39147\n",
            "  2178  2383  9328  4885 12000  6033  3858  4191  3125  8333  3416 11000\n",
            "  4923  3992  3917  4408  3244  3975  2479  3418  3430  7787  5703  3173\n",
            "  3850   150  3727  4283  2221  4009  2971  3250  2491  3155  5500  3463\n",
            "  3812  3315  5819  2510  2965  3406  6050  9703  6608  2882  1809  1668\n",
            "  3427  2661 16250  3083  6045  5250 14683  4931  6083  2060  3481  7200\n",
            "  5166  4095  4708  4333  2876  3237 11146  2833  2620  3900  2750  3993\n",
            "  3103  4100  4053  3927  2301  1811 20667  3158  3704  4124  9508  3075\n",
            "  4400  3153  6875  4666  5000  1625  2000  3762 20233  7667  2917  2927\n",
            "  2507  5746  3399  3717  2058  3541  4342  3601  3166 15000  8666  4917\n",
            "  5818  4384  2935  1830  4160  2647  2378  4554  2499  6333  2625  9083\n",
            "  8750  2666  2423  3875  5167  4723  4750  3013  6822  6216  6325 19730\n",
            " 15759  5185  3062  4817  4310  3069  5391  5941  7167  4566  2346  3010\n",
            "  5488  9167  9504  1993  3100  3276  3180  3033  3902  1500  2889  2755\n",
            "  1963  7441  4547  2167  2213  8300 81000  3867  6096  2253  2149  2995\n",
            "  1600  1025  3246  5829  1820 14880  4606  5935  2920  2717  8624  6500\n",
            "  2425  1926 10416  7142  3660  7901  4707 37719  7333  3466  3340  2769\n",
            "  2309  1958  3948  2483  7085  3859  4301  3708  4354  8334  7740  3015\n",
            "  2947  3450  2653  4691  5532 16525  6700 16667  4350  3095  2083 10833\n",
            "  3547 18333  2435  2699  5333  3691 17263  3597  3326  4625  2895  6283\n",
            "   645  3159  4865  4050  3814 20833 13262  3598  6065  3283  2130  5815\n",
            "  2031  4683  3400  2192  5677  7948  4680 17500  3775  5285  2679  6783\n",
            "  4281  3588 11250 18165  6133  3617  6417  4608  2138  2239  3017  2768\n",
            "  3358  2526  2785  6633  2492  2454  3593  5468  2667 10139  3887  4180\n",
            "  3675 19484  5923  5800  8799  4467  3417 16666  6125  6406  3229  1782\n",
            "  6540  1836  1880  2787  2297  2165  2726 16120  3833  6383  9963  5780\n",
            "  3676  3987  3232  2900  4106  8072  7583]\n",
            "2500    8\n",
            "4583    6\n",
            "6000    6\n",
            "2600    5\n",
            "2400    4\n",
            "       ..\n",
            "5815    1\n",
            "5818    1\n",
            "5819    1\n",
            "5821    1\n",
            "3691    1\n",
            "Name: ApplicantIncome, Length: 451, dtype: int64\n",
            "_____________________________________________________________________\n",
            "Property_Area : [1 0 2]\n",
            "2    209\n",
            "1    174\n",
            "0    159\n",
            "Name: Property_Area, dtype: int64\n",
            "_____________________________________________________________________\n",
            "Loan_Status : [1 0]\n",
            "1    376\n",
            "0    166\n",
            "Name: Loan_Status, dtype: int64\n",
            "_____________________________________________________________________\n"
          ],
          "name": "stdout"
        }
      ]
    },
    {
      "cell_type": "markdown",
      "metadata": {
        "id": "zJkqV-HV3f8_"
      },
      "source": [
        "####**2.5. Find the coorelation**"
      ]
    },
    {
      "cell_type": "code",
      "metadata": {
        "id": "WdHQNsJ6veZQ",
        "colab": {
          "base_uri": "https://localhost:8080/",
          "height": 284
        },
        "outputId": "296b9e6c-ba7e-468d-e534-f79e7d6f0dc9"
      },
      "source": [
        "corr = df_train.corr()\r\n",
        "corr.style.background_gradient(cmap='gist_earth_r').set_precision(2)"
      ],
      "execution_count": null,
      "outputs": [
        {
          "output_type": "execute_result",
          "data": {
            "text/html": [
              "<style  type=\"text/css\" >\n",
              "#T_aab4fa00_74e9_11eb_86ae_0242ac1c0002row0_col0,#T_aab4fa00_74e9_11eb_86ae_0242ac1c0002row1_col1,#T_aab4fa00_74e9_11eb_86ae_0242ac1c0002row2_col2,#T_aab4fa00_74e9_11eb_86ae_0242ac1c0002row3_col3,#T_aab4fa00_74e9_11eb_86ae_0242ac1c0002row4_col4,#T_aab4fa00_74e9_11eb_86ae_0242ac1c0002row5_col5,#T_aab4fa00_74e9_11eb_86ae_0242ac1c0002row6_col6,#T_aab4fa00_74e9_11eb_86ae_0242ac1c0002row7_col7,#T_aab4fa00_74e9_11eb_86ae_0242ac1c0002row8_col8,#T_aab4fa00_74e9_11eb_86ae_0242ac1c0002row9_col9,#T_aab4fa00_74e9_11eb_86ae_0242ac1c0002row10_col10,#T_aab4fa00_74e9_11eb_86ae_0242ac1c0002row11_col11{\n",
              "            background-color:  #000000;\n",
              "            color:  #f1f1f1;\n",
              "        }#T_aab4fa00_74e9_11eb_86ae_0242ac1c0002row0_col1,#T_aab4fa00_74e9_11eb_86ae_0242ac1c0002row1_col2{\n",
              "            background-color:  #86aa55;\n",
              "            color:  #000000;\n",
              "        }#T_aab4fa00_74e9_11eb_86ae_0242ac1c0002row0_col2{\n",
              "            background-color:  #bab160;\n",
              "            color:  #000000;\n",
              "        }#T_aab4fa00_74e9_11eb_86ae_0242ac1c0002row0_col3,#T_aab4fa00_74e9_11eb_86ae_0242ac1c0002row0_col4,#T_aab4fa00_74e9_11eb_86ae_0242ac1c0002row2_col9,#T_aab4fa00_74e9_11eb_86ae_0242ac1c0002row10_col4{\n",
              "            background-color:  #fbf5f5;\n",
              "            color:  #000000;\n",
              "        }#T_aab4fa00_74e9_11eb_86ae_0242ac1c0002row0_col5,#T_aab4fa00_74e9_11eb_86ae_0242ac1c0002row3_col11,#T_aab4fa00_74e9_11eb_86ae_0242ac1c0002row5_col1,#T_aab4fa00_74e9_11eb_86ae_0242ac1c0002row9_col10{\n",
              "            background-color:  #d8b49b;\n",
              "            color:  #000000;\n",
              "        }#T_aab4fa00_74e9_11eb_86ae_0242ac1c0002row0_col6{\n",
              "            background-color:  #bea963;\n",
              "            color:  #000000;\n",
              "        }#T_aab4fa00_74e9_11eb_86ae_0242ac1c0002row0_col7,#T_aab4fa00_74e9_11eb_86ae_0242ac1c0002row3_col6{\n",
              "            background-color:  #cfac87;\n",
              "            color:  #000000;\n",
              "        }#T_aab4fa00_74e9_11eb_86ae_0242ac1c0002row0_col8,#T_aab4fa00_74e9_11eb_86ae_0242ac1c0002row1_col4,#T_aab4fa00_74e9_11eb_86ae_0242ac1c0002row6_col11,#T_aab4fa00_74e9_11eb_86ae_0242ac1c0002row7_col9{\n",
              "            background-color:  #f9efef;\n",
              "            color:  #000000;\n",
              "        }#T_aab4fa00_74e9_11eb_86ae_0242ac1c0002row0_col9,#T_aab4fa00_74e9_11eb_86ae_0242ac1c0002row2_col6,#T_aab4fa00_74e9_11eb_86ae_0242ac1c0002row4_col0,#T_aab4fa00_74e9_11eb_86ae_0242ac1c0002row4_col6,#T_aab4fa00_74e9_11eb_86ae_0242ac1c0002row4_col10,#T_aab4fa00_74e9_11eb_86ae_0242ac1c0002row8_col9,#T_aab4fa00_74e9_11eb_86ae_0242ac1c0002row10_col5{\n",
              "            background-color:  #e9cdc5;\n",
              "            color:  #000000;\n",
              "        }#T_aab4fa00_74e9_11eb_86ae_0242ac1c0002row0_col10,#T_aab4fa00_74e9_11eb_86ae_0242ac1c0002row1_col8,#T_aab4fa00_74e9_11eb_86ae_0242ac1c0002row2_col3,#T_aab4fa00_74e9_11eb_86ae_0242ac1c0002row5_col6,#T_aab4fa00_74e9_11eb_86ae_0242ac1c0002row5_col9,#T_aab4fa00_74e9_11eb_86ae_0242ac1c0002row6_col5,#T_aab4fa00_74e9_11eb_86ae_0242ac1c0002row7_col11,#T_aab4fa00_74e9_11eb_86ae_0242ac1c0002row8_col1,#T_aab4fa00_74e9_11eb_86ae_0242ac1c0002row8_col2,#T_aab4fa00_74e9_11eb_86ae_0242ac1c0002row8_col4,#T_aab4fa00_74e9_11eb_86ae_0242ac1c0002row9_col4,#T_aab4fa00_74e9_11eb_86ae_0242ac1c0002row10_col0,#T_aab4fa00_74e9_11eb_86ae_0242ac1c0002row11_col7{\n",
              "            background-color:  #fdfbfb;\n",
              "            color:  #000000;\n",
              "        }#T_aab4fa00_74e9_11eb_86ae_0242ac1c0002row0_col11,#T_aab4fa00_74e9_11eb_86ae_0242ac1c0002row2_col4{\n",
              "            background-color:  #e4c5b9;\n",
              "            color:  #000000;\n",
              "        }#T_aab4fa00_74e9_11eb_86ae_0242ac1c0002row1_col0{\n",
              "            background-color:  #89ab55;\n",
              "            color:  #000000;\n",
              "        }#T_aab4fa00_74e9_11eb_86ae_0242ac1c0002row1_col3,#T_aab4fa00_74e9_11eb_86ae_0242ac1c0002row8_col11,#T_aab4fa00_74e9_11eb_86ae_0242ac1c0002row9_col2,#T_aab4fa00_74e9_11eb_86ae_0242ac1c0002row11_col5{\n",
              "            background-color:  #eed8d4;\n",
              "            color:  #000000;\n",
              "        }#T_aab4fa00_74e9_11eb_86ae_0242ac1c0002row1_col5,#T_aab4fa00_74e9_11eb_86ae_0242ac1c0002row9_col8{\n",
              "            background-color:  #dab7a0;\n",
              "            color:  #000000;\n",
              "        }#T_aab4fa00_74e9_11eb_86ae_0242ac1c0002row1_col6,#T_aab4fa00_74e9_11eb_86ae_0242ac1c0002row2_col5,#T_aab4fa00_74e9_11eb_86ae_0242ac1c0002row5_col3{\n",
              "            background-color:  #c5a571;\n",
              "            color:  #000000;\n",
              "        }#T_aab4fa00_74e9_11eb_86ae_0242ac1c0002row1_col7,#T_aab4fa00_74e9_11eb_86ae_0242ac1c0002row6_col1{\n",
              "            background-color:  #c3a46c;\n",
              "            color:  #000000;\n",
              "        }#T_aab4fa00_74e9_11eb_86ae_0242ac1c0002row1_col9,#T_aab4fa00_74e9_11eb_86ae_0242ac1c0002row2_col10,#T_aab4fa00_74e9_11eb_86ae_0242ac1c0002row4_col8,#T_aab4fa00_74e9_11eb_86ae_0242ac1c0002row10_col2{\n",
              "            background-color:  #e8cbc2;\n",
              "            color:  #000000;\n",
              "        }#T_aab4fa00_74e9_11eb_86ae_0242ac1c0002row1_col10,#T_aab4fa00_74e9_11eb_86ae_0242ac1c0002row3_col9,#T_aab4fa00_74e9_11eb_86ae_0242ac1c0002row8_col10,#T_aab4fa00_74e9_11eb_86ae_0242ac1c0002row11_col2,#T_aab4fa00_74e9_11eb_86ae_0242ac1c0002row11_col8{\n",
              "            background-color:  #e1bfb0;\n",
              "            color:  #000000;\n",
              "        }#T_aab4fa00_74e9_11eb_86ae_0242ac1c0002row1_col11,#T_aab4fa00_74e9_11eb_86ae_0242ac1c0002row7_col4,#T_aab4fa00_74e9_11eb_86ae_0242ac1c0002row8_col3{\n",
              "            background-color:  #d0ad8a;\n",
              "            color:  #000000;\n",
              "        }#T_aab4fa00_74e9_11eb_86ae_0242ac1c0002row2_col0{\n",
              "            background-color:  #bab061;\n",
              "            color:  #000000;\n",
              "        }#T_aab4fa00_74e9_11eb_86ae_0242ac1c0002row2_col1{\n",
              "            background-color:  #81a854;\n",
              "            color:  #000000;\n",
              "        }#T_aab4fa00_74e9_11eb_86ae_0242ac1c0002row2_col7,#T_aab4fa00_74e9_11eb_86ae_0242ac1c0002row5_col4,#T_aab4fa00_74e9_11eb_86ae_0242ac1c0002row7_col0{\n",
              "            background-color:  #c7a676;\n",
              "            color:  #000000;\n",
              "        }#T_aab4fa00_74e9_11eb_86ae_0242ac1c0002row2_col8,#T_aab4fa00_74e9_11eb_86ae_0242ac1c0002row5_col11{\n",
              "            background-color:  #faf2f2;\n",
              "            color:  #000000;\n",
              "        }#T_aab4fa00_74e9_11eb_86ae_0242ac1c0002row2_col11,#T_aab4fa00_74e9_11eb_86ae_0242ac1c0002row5_col10,#T_aab4fa00_74e9_11eb_86ae_0242ac1c0002row6_col2{\n",
              "            background-color:  #eacfc8;\n",
              "            color:  #000000;\n",
              "        }#T_aab4fa00_74e9_11eb_86ae_0242ac1c0002row3_col0{\n",
              "            background-color:  #f3e1e0;\n",
              "            color:  #000000;\n",
              "        }#T_aab4fa00_74e9_11eb_86ae_0242ac1c0002row3_col1,#T_aab4fa00_74e9_11eb_86ae_0242ac1c0002row4_col1,#T_aab4fa00_74e9_11eb_86ae_0242ac1c0002row10_col9{\n",
              "            background-color:  #e3c3b6;\n",
              "            color:  #000000;\n",
              "        }#T_aab4fa00_74e9_11eb_86ae_0242ac1c0002row3_col2,#T_aab4fa00_74e9_11eb_86ae_0242ac1c0002row4_col9,#T_aab4fa00_74e9_11eb_86ae_0242ac1c0002row9_col7{\n",
              "            background-color:  #f6eae9;\n",
              "            color:  #000000;\n",
              "        }#T_aab4fa00_74e9_11eb_86ae_0242ac1c0002row3_col4,#T_aab4fa00_74e9_11eb_86ae_0242ac1c0002row9_col5{\n",
              "            background-color:  #f1dcda;\n",
              "            color:  #000000;\n",
              "        }#T_aab4fa00_74e9_11eb_86ae_0242ac1c0002row3_col5,#T_aab4fa00_74e9_11eb_86ae_0242ac1c0002row7_col3,#T_aab4fa00_74e9_11eb_86ae_0242ac1c0002row11_col10{\n",
              "            background-color:  #c0a565;\n",
              "            color:  #000000;\n",
              "        }#T_aab4fa00_74e9_11eb_86ae_0242ac1c0002row3_col7{\n",
              "            background-color:  #c1a367;\n",
              "            color:  #000000;\n",
              "        }#T_aab4fa00_74e9_11eb_86ae_0242ac1c0002row3_col8,#T_aab4fa00_74e9_11eb_86ae_0242ac1c0002row5_col2,#T_aab4fa00_74e9_11eb_86ae_0242ac1c0002row10_col11{\n",
              "            background-color:  #c6a574;\n",
              "            color:  #000000;\n",
              "        }#T_aab4fa00_74e9_11eb_86ae_0242ac1c0002row3_col10,#T_aab4fa00_74e9_11eb_86ae_0242ac1c0002row11_col3{\n",
              "            background-color:  #d6b196;\n",
              "            color:  #000000;\n",
              "        }#T_aab4fa00_74e9_11eb_86ae_0242ac1c0002row4_col2{\n",
              "            background-color:  #d4b091;\n",
              "            color:  #000000;\n",
              "        }#T_aab4fa00_74e9_11eb_86ae_0242ac1c0002row4_col3,#T_aab4fa00_74e9_11eb_86ae_0242ac1c0002row6_col10{\n",
              "            background-color:  #e7c9bf;\n",
              "            color:  #000000;\n",
              "        }#T_aab4fa00_74e9_11eb_86ae_0242ac1c0002row4_col5,#T_aab4fa00_74e9_11eb_86ae_0242ac1c0002row7_col1{\n",
              "            background-color:  #bdaa63;\n",
              "            color:  #000000;\n",
              "        }#T_aab4fa00_74e9_11eb_86ae_0242ac1c0002row4_col7{\n",
              "            background-color:  #caa87b;\n",
              "            color:  #000000;\n",
              "        }#T_aab4fa00_74e9_11eb_86ae_0242ac1c0002row4_col11{\n",
              "            background-color:  #f4e4e3;\n",
              "            color:  #000000;\n",
              "        }#T_aab4fa00_74e9_11eb_86ae_0242ac1c0002row5_col0,#T_aab4fa00_74e9_11eb_86ae_0242ac1c0002row8_col7,#T_aab4fa00_74e9_11eb_86ae_0242ac1c0002row9_col1{\n",
              "            background-color:  #d9b59d;\n",
              "            color:  #000000;\n",
              "        }#T_aab4fa00_74e9_11eb_86ae_0242ac1c0002row5_col7{\n",
              "            background-color:  #479a47;\n",
              "            color:  #000000;\n",
              "        }#T_aab4fa00_74e9_11eb_86ae_0242ac1c0002row5_col8{\n",
              "            background-color:  #dfbcaa;\n",
              "            color:  #000000;\n",
              "        }#T_aab4fa00_74e9_11eb_86ae_0242ac1c0002row6_col0,#T_aab4fa00_74e9_11eb_86ae_0242ac1c0002row6_col7{\n",
              "            background-color:  #bea863;\n",
              "            color:  #000000;\n",
              "        }#T_aab4fa00_74e9_11eb_86ae_0242ac1c0002row6_col3{\n",
              "            background-color:  #d7b298;\n",
              "            color:  #000000;\n",
              "        }#T_aab4fa00_74e9_11eb_86ae_0242ac1c0002row6_col4,#T_aab4fa00_74e9_11eb_86ae_0242ac1c0002row8_col0,#T_aab4fa00_74e9_11eb_86ae_0242ac1c0002row11_col4{\n",
              "            background-color:  #fcf8f8;\n",
              "            color:  #000000;\n",
              "        }#T_aab4fa00_74e9_11eb_86ae_0242ac1c0002row6_col8,#T_aab4fa00_74e9_11eb_86ae_0242ac1c0002row8_col5,#T_aab4fa00_74e9_11eb_86ae_0242ac1c0002row9_col6{\n",
              "            background-color:  #e2c1b3;\n",
              "            color:  #000000;\n",
              "        }#T_aab4fa00_74e9_11eb_86ae_0242ac1c0002row6_col9{\n",
              "            background-color:  #f0dad7;\n",
              "            color:  #000000;\n",
              "        }#T_aab4fa00_74e9_11eb_86ae_0242ac1c0002row7_col2{\n",
              "            background-color:  #c0a465;\n",
              "            color:  #000000;\n",
              "        }#T_aab4fa00_74e9_11eb_86ae_0242ac1c0002row7_col5{\n",
              "            background-color:  #43984d;\n",
              "            color:  #000000;\n",
              "        }#T_aab4fa00_74e9_11eb_86ae_0242ac1c0002row7_col6{\n",
              "            background-color:  #bbaf61;\n",
              "            color:  #000000;\n",
              "        }#T_aab4fa00_74e9_11eb_86ae_0242ac1c0002row7_col8{\n",
              "            background-color:  #cdaa82;\n",
              "            color:  #000000;\n",
              "        }#T_aab4fa00_74e9_11eb_86ae_0242ac1c0002row7_col10{\n",
              "            background-color:  #ebd1cb;\n",
              "            color:  #000000;\n",
              "        }#T_aab4fa00_74e9_11eb_86ae_0242ac1c0002row8_col6,#T_aab4fa00_74e9_11eb_86ae_0242ac1c0002row10_col6{\n",
              "            background-color:  #e6c7bc;\n",
              "            color:  #000000;\n",
              "        }#T_aab4fa00_74e9_11eb_86ae_0242ac1c0002row9_col0,#T_aab4fa00_74e9_11eb_86ae_0242ac1c0002row10_col1,#T_aab4fa00_74e9_11eb_86ae_0242ac1c0002row10_col8{\n",
              "            background-color:  #debba7;\n",
              "            color:  #000000;\n",
              "        }#T_aab4fa00_74e9_11eb_86ae_0242ac1c0002row9_col3,#T_aab4fa00_74e9_11eb_86ae_0242ac1c0002row10_col3{\n",
              "            background-color:  #ddb9a5;\n",
              "            color:  #000000;\n",
              "        }#T_aab4fa00_74e9_11eb_86ae_0242ac1c0002row9_col11{\n",
              "            background-color:  #45994a;\n",
              "            color:  #000000;\n",
              "        }#T_aab4fa00_74e9_11eb_86ae_0242ac1c0002row10_col7{\n",
              "            background-color:  #f5e7e6;\n",
              "            color:  #000000;\n",
              "        }#T_aab4fa00_74e9_11eb_86ae_0242ac1c0002row11_col0{\n",
              "            background-color:  #dbb8a2;\n",
              "            color:  #000000;\n",
              "        }#T_aab4fa00_74e9_11eb_86ae_0242ac1c0002row11_col1{\n",
              "            background-color:  #c4a46f;\n",
              "            color:  #000000;\n",
              "        }#T_aab4fa00_74e9_11eb_86ae_0242ac1c0002row11_col6{\n",
              "            background-color:  #edd5d1;\n",
              "            color:  #000000;\n",
              "        }#T_aab4fa00_74e9_11eb_86ae_0242ac1c0002row11_col9{\n",
              "            background-color:  #459a49;\n",
              "            color:  #000000;\n",
              "        }</style><table id=\"T_aab4fa00_74e9_11eb_86ae_0242ac1c0002\" ><thead>    <tr>        <th class=\"blank level0\" ></th>        <th class=\"col_heading level0 col0\" >Gender</th>        <th class=\"col_heading level0 col1\" >Married</th>        <th class=\"col_heading level0 col2\" >Dependents</th>        <th class=\"col_heading level0 col3\" >Education</th>        <th class=\"col_heading level0 col4\" >Self_Employed</th>        <th class=\"col_heading level0 col5\" >ApplicantIncome</th>        <th class=\"col_heading level0 col6\" >CoapplicantIncome</th>        <th class=\"col_heading level0 col7\" >LoanAmount</th>        <th class=\"col_heading level0 col8\" >Loan_Amount_Term</th>        <th class=\"col_heading level0 col9\" >Credit_History</th>        <th class=\"col_heading level0 col10\" >Property_Area</th>        <th class=\"col_heading level0 col11\" >Loan_Status</th>    </tr></thead><tbody>\n",
              "                <tr>\n",
              "                        <th id=\"T_aab4fa00_74e9_11eb_86ae_0242ac1c0002level0_row0\" class=\"row_heading level0 row0\" >Gender</th>\n",
              "                        <td id=\"T_aab4fa00_74e9_11eb_86ae_0242ac1c0002row0_col0\" class=\"data row0 col0\" >1.00</td>\n",
              "                        <td id=\"T_aab4fa00_74e9_11eb_86ae_0242ac1c0002row0_col1\" class=\"data row0 col1\" >0.35</td>\n",
              "                        <td id=\"T_aab4fa00_74e9_11eb_86ae_0242ac1c0002row0_col2\" class=\"data row0 col2\" >0.20</td>\n",
              "                        <td id=\"T_aab4fa00_74e9_11eb_86ae_0242ac1c0002row0_col3\" class=\"data row0 col3\" >-0.06</td>\n",
              "                        <td id=\"T_aab4fa00_74e9_11eb_86ae_0242ac1c0002row0_col4\" class=\"data row0 col4\" >-0.02</td>\n",
              "                        <td id=\"T_aab4fa00_74e9_11eb_86ae_0242ac1c0002row0_col5\" class=\"data row0 col5\" >0.04</td>\n",
              "                        <td id=\"T_aab4fa00_74e9_11eb_86ae_0242ac1c0002row0_col6\" class=\"data row0 col6\" >0.16</td>\n",
              "                        <td id=\"T_aab4fa00_74e9_11eb_86ae_0242ac1c0002row0_col7\" class=\"data row0 col7\" >0.11</td>\n",
              "                        <td id=\"T_aab4fa00_74e9_11eb_86ae_0242ac1c0002row0_col8\" class=\"data row0 col8\" >-0.09</td>\n",
              "                        <td id=\"T_aab4fa00_74e9_11eb_86ae_0242ac1c0002row0_col9\" class=\"data row0 col9\" >0.02</td>\n",
              "                        <td id=\"T_aab4fa00_74e9_11eb_86ae_0242ac1c0002row0_col10\" class=\"data row0 col10\" >-0.10</td>\n",
              "                        <td id=\"T_aab4fa00_74e9_11eb_86ae_0242ac1c0002row0_col11\" class=\"data row0 col11\" >0.03</td>\n",
              "            </tr>\n",
              "            <tr>\n",
              "                        <th id=\"T_aab4fa00_74e9_11eb_86ae_0242ac1c0002level0_row1\" class=\"row_heading level0 row1\" >Married</th>\n",
              "                        <td id=\"T_aab4fa00_74e9_11eb_86ae_0242ac1c0002row1_col0\" class=\"data row1 col0\" >0.35</td>\n",
              "                        <td id=\"T_aab4fa00_74e9_11eb_86ae_0242ac1c0002row1_col1\" class=\"data row1 col1\" >1.00</td>\n",
              "                        <td id=\"T_aab4fa00_74e9_11eb_86ae_0242ac1c0002row1_col2\" class=\"data row1 col2\" >0.36</td>\n",
              "                        <td id=\"T_aab4fa00_74e9_11eb_86ae_0242ac1c0002row1_col3\" class=\"data row1 col3\" >-0.01</td>\n",
              "                        <td id=\"T_aab4fa00_74e9_11eb_86ae_0242ac1c0002row1_col4\" class=\"data row1 col4\" >-0.01</td>\n",
              "                        <td id=\"T_aab4fa00_74e9_11eb_86ae_0242ac1c0002row1_col5\" class=\"data row1 col5\" >0.03</td>\n",
              "                        <td id=\"T_aab4fa00_74e9_11eb_86ae_0242ac1c0002row1_col6\" class=\"data row1 col6\" >0.11</td>\n",
              "                        <td id=\"T_aab4fa00_74e9_11eb_86ae_0242ac1c0002row1_col7\" class=\"data row1 col7\" >0.16</td>\n",
              "                        <td id=\"T_aab4fa00_74e9_11eb_86ae_0242ac1c0002row1_col8\" class=\"data row1 col8\" >-0.12</td>\n",
              "                        <td id=\"T_aab4fa00_74e9_11eb_86ae_0242ac1c0002row1_col9\" class=\"data row1 col9\" >0.03</td>\n",
              "                        <td id=\"T_aab4fa00_74e9_11eb_86ae_0242ac1c0002row1_col10\" class=\"data row1 col10\" >0.01</td>\n",
              "                        <td id=\"T_aab4fa00_74e9_11eb_86ae_0242ac1c0002row1_col11\" class=\"data row1 col11\" >0.11</td>\n",
              "            </tr>\n",
              "            <tr>\n",
              "                        <th id=\"T_aab4fa00_74e9_11eb_86ae_0242ac1c0002level0_row2\" class=\"row_heading level0 row2\" >Dependents</th>\n",
              "                        <td id=\"T_aab4fa00_74e9_11eb_86ae_0242ac1c0002row2_col0\" class=\"data row2 col0\" >0.20</td>\n",
              "                        <td id=\"T_aab4fa00_74e9_11eb_86ae_0242ac1c0002row2_col1\" class=\"data row2 col1\" >0.36</td>\n",
              "                        <td id=\"T_aab4fa00_74e9_11eb_86ae_0242ac1c0002row2_col2\" class=\"data row2 col2\" >1.00</td>\n",
              "                        <td id=\"T_aab4fa00_74e9_11eb_86ae_0242ac1c0002row2_col3\" class=\"data row2 col3\" >-0.07</td>\n",
              "                        <td id=\"T_aab4fa00_74e9_11eb_86ae_0242ac1c0002row2_col4\" class=\"data row2 col4\" >0.06</td>\n",
              "                        <td id=\"T_aab4fa00_74e9_11eb_86ae_0242ac1c0002row2_col5\" class=\"data row2 col5\" >0.11</td>\n",
              "                        <td id=\"T_aab4fa00_74e9_11eb_86ae_0242ac1c0002row2_col6\" class=\"data row2 col6\" >-0.02</td>\n",
              "                        <td id=\"T_aab4fa00_74e9_11eb_86ae_0242ac1c0002row2_col7\" class=\"data row2 col7\" >0.14</td>\n",
              "                        <td id=\"T_aab4fa00_74e9_11eb_86ae_0242ac1c0002row2_col8\" class=\"data row2 col8\" >-0.10</td>\n",
              "                        <td id=\"T_aab4fa00_74e9_11eb_86ae_0242ac1c0002row2_col9\" class=\"data row2 col9\" >-0.04</td>\n",
              "                        <td id=\"T_aab4fa00_74e9_11eb_86ae_0242ac1c0002row2_col10\" class=\"data row2 col10\" >-0.01</td>\n",
              "                        <td id=\"T_aab4fa00_74e9_11eb_86ae_0242ac1c0002row2_col11\" class=\"data row2 col11\" >0.01</td>\n",
              "            </tr>\n",
              "            <tr>\n",
              "                        <th id=\"T_aab4fa00_74e9_11eb_86ae_0242ac1c0002level0_row3\" class=\"row_heading level0 row3\" >Education</th>\n",
              "                        <td id=\"T_aab4fa00_74e9_11eb_86ae_0242ac1c0002row3_col0\" class=\"data row3 col0\" >-0.06</td>\n",
              "                        <td id=\"T_aab4fa00_74e9_11eb_86ae_0242ac1c0002row3_col1\" class=\"data row3 col1\" >-0.01</td>\n",
              "                        <td id=\"T_aab4fa00_74e9_11eb_86ae_0242ac1c0002row3_col2\" class=\"data row3 col2\" >-0.07</td>\n",
              "                        <td id=\"T_aab4fa00_74e9_11eb_86ae_0242ac1c0002row3_col3\" class=\"data row3 col3\" >1.00</td>\n",
              "                        <td id=\"T_aab4fa00_74e9_11eb_86ae_0242ac1c0002row3_col4\" class=\"data row3 col4\" >0.02</td>\n",
              "                        <td id=\"T_aab4fa00_74e9_11eb_86ae_0242ac1c0002row3_col5\" class=\"data row3 col5\" >0.14</td>\n",
              "                        <td id=\"T_aab4fa00_74e9_11eb_86ae_0242ac1c0002row3_col6\" class=\"data row3 col6\" >0.07</td>\n",
              "                        <td id=\"T_aab4fa00_74e9_11eb_86ae_0242ac1c0002row3_col7\" class=\"data row3 col7\" >0.16</td>\n",
              "                        <td id=\"T_aab4fa00_74e9_11eb_86ae_0242ac1c0002row3_col8\" class=\"data row3 col8\" >0.10</td>\n",
              "                        <td id=\"T_aab4fa00_74e9_11eb_86ae_0242ac1c0002row3_col9\" class=\"data row3 col9\" >0.05</td>\n",
              "                        <td id=\"T_aab4fa00_74e9_11eb_86ae_0242ac1c0002row3_col10\" class=\"data row3 col10\" >0.05</td>\n",
              "                        <td id=\"T_aab4fa00_74e9_11eb_86ae_0242ac1c0002row3_col11\" class=\"data row3 col11\" >0.08</td>\n",
              "            </tr>\n",
              "            <tr>\n",
              "                        <th id=\"T_aab4fa00_74e9_11eb_86ae_0242ac1c0002level0_row4\" class=\"row_heading level0 row4\" >Self_Employed</th>\n",
              "                        <td id=\"T_aab4fa00_74e9_11eb_86ae_0242ac1c0002row4_col0\" class=\"data row4 col0\" >-0.02</td>\n",
              "                        <td id=\"T_aab4fa00_74e9_11eb_86ae_0242ac1c0002row4_col1\" class=\"data row4 col1\" >-0.01</td>\n",
              "                        <td id=\"T_aab4fa00_74e9_11eb_86ae_0242ac1c0002row4_col2\" class=\"data row4 col2\" >0.06</td>\n",
              "                        <td id=\"T_aab4fa00_74e9_11eb_86ae_0242ac1c0002row4_col3\" class=\"data row4 col3\" >0.02</td>\n",
              "                        <td id=\"T_aab4fa00_74e9_11eb_86ae_0242ac1c0002row4_col4\" class=\"data row4 col4\" >1.00</td>\n",
              "                        <td id=\"T_aab4fa00_74e9_11eb_86ae_0242ac1c0002row4_col5\" class=\"data row4 col5\" >0.17</td>\n",
              "                        <td id=\"T_aab4fa00_74e9_11eb_86ae_0242ac1c0002row4_col6\" class=\"data row4 col6\" >-0.03</td>\n",
              "                        <td id=\"T_aab4fa00_74e9_11eb_86ae_0242ac1c0002row4_col7\" class=\"data row4 col7\" >0.13</td>\n",
              "                        <td id=\"T_aab4fa00_74e9_11eb_86ae_0242ac1c0002row4_col8\" class=\"data row4 col8\" >-0.03</td>\n",
              "                        <td id=\"T_aab4fa00_74e9_11eb_86ae_0242ac1c0002row4_col9\" class=\"data row4 col9\" >-0.03</td>\n",
              "                        <td id=\"T_aab4fa00_74e9_11eb_86ae_0242ac1c0002row4_col10\" class=\"data row4 col10\" >-0.02</td>\n",
              "                        <td id=\"T_aab4fa00_74e9_11eb_86ae_0242ac1c0002row4_col11\" class=\"data row4 col11\" >-0.02</td>\n",
              "            </tr>\n",
              "            <tr>\n",
              "                        <th id=\"T_aab4fa00_74e9_11eb_86ae_0242ac1c0002level0_row5\" class=\"row_heading level0 row5\" >ApplicantIncome</th>\n",
              "                        <td id=\"T_aab4fa00_74e9_11eb_86ae_0242ac1c0002row5_col0\" class=\"data row5 col0\" >0.04</td>\n",
              "                        <td id=\"T_aab4fa00_74e9_11eb_86ae_0242ac1c0002row5_col1\" class=\"data row5 col1\" >0.03</td>\n",
              "                        <td id=\"T_aab4fa00_74e9_11eb_86ae_0242ac1c0002row5_col2\" class=\"data row5 col2\" >0.11</td>\n",
              "                        <td id=\"T_aab4fa00_74e9_11eb_86ae_0242ac1c0002row5_col3\" class=\"data row5 col3\" >0.14</td>\n",
              "                        <td id=\"T_aab4fa00_74e9_11eb_86ae_0242ac1c0002row5_col4\" class=\"data row5 col4\" >0.17</td>\n",
              "                        <td id=\"T_aab4fa00_74e9_11eb_86ae_0242ac1c0002row5_col5\" class=\"data row5 col5\" >1.00</td>\n",
              "                        <td id=\"T_aab4fa00_74e9_11eb_86ae_0242ac1c0002row5_col6\" class=\"data row5 col6\" >-0.10</td>\n",
              "                        <td id=\"T_aab4fa00_74e9_11eb_86ae_0242ac1c0002row5_col7\" class=\"data row5 col7\" >0.51</td>\n",
              "                        <td id=\"T_aab4fa00_74e9_11eb_86ae_0242ac1c0002row5_col8\" class=\"data row5 col8\" >0.00</td>\n",
              "                        <td id=\"T_aab4fa00_74e9_11eb_86ae_0242ac1c0002row5_col9\" class=\"data row5 col9\" >-0.05</td>\n",
              "                        <td id=\"T_aab4fa00_74e9_11eb_86ae_0242ac1c0002row5_col10\" class=\"data row5 col10\" >-0.02</td>\n",
              "                        <td id=\"T_aab4fa00_74e9_11eb_86ae_0242ac1c0002row5_col11\" class=\"data row5 col11\" >-0.04</td>\n",
              "            </tr>\n",
              "            <tr>\n",
              "                        <th id=\"T_aab4fa00_74e9_11eb_86ae_0242ac1c0002level0_row6\" class=\"row_heading level0 row6\" >CoapplicantIncome</th>\n",
              "                        <td id=\"T_aab4fa00_74e9_11eb_86ae_0242ac1c0002row6_col0\" class=\"data row6 col0\" >0.16</td>\n",
              "                        <td id=\"T_aab4fa00_74e9_11eb_86ae_0242ac1c0002row6_col1\" class=\"data row6 col1\" >0.11</td>\n",
              "                        <td id=\"T_aab4fa00_74e9_11eb_86ae_0242ac1c0002row6_col2\" class=\"data row6 col2\" >-0.02</td>\n",
              "                        <td id=\"T_aab4fa00_74e9_11eb_86ae_0242ac1c0002row6_col3\" class=\"data row6 col3\" >0.07</td>\n",
              "                        <td id=\"T_aab4fa00_74e9_11eb_86ae_0242ac1c0002row6_col4\" class=\"data row6 col4\" >-0.03</td>\n",
              "                        <td id=\"T_aab4fa00_74e9_11eb_86ae_0242ac1c0002row6_col5\" class=\"data row6 col5\" >-0.10</td>\n",
              "                        <td id=\"T_aab4fa00_74e9_11eb_86ae_0242ac1c0002row6_col6\" class=\"data row6 col6\" >1.00</td>\n",
              "                        <td id=\"T_aab4fa00_74e9_11eb_86ae_0242ac1c0002row6_col7\" class=\"data row6 col7\" >0.19</td>\n",
              "                        <td id=\"T_aab4fa00_74e9_11eb_86ae_0242ac1c0002row6_col8\" class=\"data row6 col8\" >-0.01</td>\n",
              "                        <td id=\"T_aab4fa00_74e9_11eb_86ae_0242ac1c0002row6_col9\" class=\"data row6 col9\" >0.00</td>\n",
              "                        <td id=\"T_aab4fa00_74e9_11eb_86ae_0242ac1c0002row6_col10\" class=\"data row6 col10\" >-0.01</td>\n",
              "                        <td id=\"T_aab4fa00_74e9_11eb_86ae_0242ac1c0002row6_col11\" class=\"data row6 col11\" >-0.04</td>\n",
              "            </tr>\n",
              "            <tr>\n",
              "                        <th id=\"T_aab4fa00_74e9_11eb_86ae_0242ac1c0002level0_row7\" class=\"row_heading level0 row7\" >LoanAmount</th>\n",
              "                        <td id=\"T_aab4fa00_74e9_11eb_86ae_0242ac1c0002row7_col0\" class=\"data row7 col0\" >0.11</td>\n",
              "                        <td id=\"T_aab4fa00_74e9_11eb_86ae_0242ac1c0002row7_col1\" class=\"data row7 col1\" >0.16</td>\n",
              "                        <td id=\"T_aab4fa00_74e9_11eb_86ae_0242ac1c0002row7_col2\" class=\"data row7 col2\" >0.14</td>\n",
              "                        <td id=\"T_aab4fa00_74e9_11eb_86ae_0242ac1c0002row7_col3\" class=\"data row7 col3\" >0.16</td>\n",
              "                        <td id=\"T_aab4fa00_74e9_11eb_86ae_0242ac1c0002row7_col4\" class=\"data row7 col4\" >0.13</td>\n",
              "                        <td id=\"T_aab4fa00_74e9_11eb_86ae_0242ac1c0002row7_col5\" class=\"data row7 col5\" >0.51</td>\n",
              "                        <td id=\"T_aab4fa00_74e9_11eb_86ae_0242ac1c0002row7_col6\" class=\"data row7 col6\" >0.19</td>\n",
              "                        <td id=\"T_aab4fa00_74e9_11eb_86ae_0242ac1c0002row7_col7\" class=\"data row7 col7\" >1.00</td>\n",
              "                        <td id=\"T_aab4fa00_74e9_11eb_86ae_0242ac1c0002row7_col8\" class=\"data row7 col8\" >0.08</td>\n",
              "                        <td id=\"T_aab4fa00_74e9_11eb_86ae_0242ac1c0002row7_col9\" class=\"data row7 col9\" >-0.03</td>\n",
              "                        <td id=\"T_aab4fa00_74e9_11eb_86ae_0242ac1c0002row7_col10\" class=\"data row7 col10\" >-0.03</td>\n",
              "                        <td id=\"T_aab4fa00_74e9_11eb_86ae_0242ac1c0002row7_col11\" class=\"data row7 col11\" >-0.06</td>\n",
              "            </tr>\n",
              "            <tr>\n",
              "                        <th id=\"T_aab4fa00_74e9_11eb_86ae_0242ac1c0002level0_row8\" class=\"row_heading level0 row8\" >Loan_Amount_Term</th>\n",
              "                        <td id=\"T_aab4fa00_74e9_11eb_86ae_0242ac1c0002row8_col0\" class=\"data row8 col0\" >-0.09</td>\n",
              "                        <td id=\"T_aab4fa00_74e9_11eb_86ae_0242ac1c0002row8_col1\" class=\"data row8 col1\" >-0.12</td>\n",
              "                        <td id=\"T_aab4fa00_74e9_11eb_86ae_0242ac1c0002row8_col2\" class=\"data row8 col2\" >-0.10</td>\n",
              "                        <td id=\"T_aab4fa00_74e9_11eb_86ae_0242ac1c0002row8_col3\" class=\"data row8 col3\" >0.10</td>\n",
              "                        <td id=\"T_aab4fa00_74e9_11eb_86ae_0242ac1c0002row8_col4\" class=\"data row8 col4\" >-0.03</td>\n",
              "                        <td id=\"T_aab4fa00_74e9_11eb_86ae_0242ac1c0002row8_col5\" class=\"data row8 col5\" >0.00</td>\n",
              "                        <td id=\"T_aab4fa00_74e9_11eb_86ae_0242ac1c0002row8_col6\" class=\"data row8 col6\" >-0.01</td>\n",
              "                        <td id=\"T_aab4fa00_74e9_11eb_86ae_0242ac1c0002row8_col7\" class=\"data row8 col7\" >0.08</td>\n",
              "                        <td id=\"T_aab4fa00_74e9_11eb_86ae_0242ac1c0002row8_col8\" class=\"data row8 col8\" >1.00</td>\n",
              "                        <td id=\"T_aab4fa00_74e9_11eb_86ae_0242ac1c0002row8_col9\" class=\"data row8 col9\" >0.02</td>\n",
              "                        <td id=\"T_aab4fa00_74e9_11eb_86ae_0242ac1c0002row8_col10\" class=\"data row8 col10\" >0.01</td>\n",
              "                        <td id=\"T_aab4fa00_74e9_11eb_86ae_0242ac1c0002row8_col11\" class=\"data row8 col11\" >-0.01</td>\n",
              "            </tr>\n",
              "            <tr>\n",
              "                        <th id=\"T_aab4fa00_74e9_11eb_86ae_0242ac1c0002level0_row9\" class=\"row_heading level0 row9\" >Credit_History</th>\n",
              "                        <td id=\"T_aab4fa00_74e9_11eb_86ae_0242ac1c0002row9_col0\" class=\"data row9 col0\" >0.02</td>\n",
              "                        <td id=\"T_aab4fa00_74e9_11eb_86ae_0242ac1c0002row9_col1\" class=\"data row9 col1\" >0.03</td>\n",
              "                        <td id=\"T_aab4fa00_74e9_11eb_86ae_0242ac1c0002row9_col2\" class=\"data row9 col2\" >-0.04</td>\n",
              "                        <td id=\"T_aab4fa00_74e9_11eb_86ae_0242ac1c0002row9_col3\" class=\"data row9 col3\" >0.05</td>\n",
              "                        <td id=\"T_aab4fa00_74e9_11eb_86ae_0242ac1c0002row9_col4\" class=\"data row9 col4\" >-0.03</td>\n",
              "                        <td id=\"T_aab4fa00_74e9_11eb_86ae_0242ac1c0002row9_col5\" class=\"data row9 col5\" >-0.05</td>\n",
              "                        <td id=\"T_aab4fa00_74e9_11eb_86ae_0242ac1c0002row9_col6\" class=\"data row9 col6\" >0.00</td>\n",
              "                        <td id=\"T_aab4fa00_74e9_11eb_86ae_0242ac1c0002row9_col7\" class=\"data row9 col7\" >-0.03</td>\n",
              "                        <td id=\"T_aab4fa00_74e9_11eb_86ae_0242ac1c0002row9_col8\" class=\"data row9 col8\" >0.02</td>\n",
              "                        <td id=\"T_aab4fa00_74e9_11eb_86ae_0242ac1c0002row9_col9\" class=\"data row9 col9\" >1.00</td>\n",
              "                        <td id=\"T_aab4fa00_74e9_11eb_86ae_0242ac1c0002row9_col10\" class=\"data row9 col10\" >0.04</td>\n",
              "                        <td id=\"T_aab4fa00_74e9_11eb_86ae_0242ac1c0002row9_col11\" class=\"data row9 col11\" >0.52</td>\n",
              "            </tr>\n",
              "            <tr>\n",
              "                        <th id=\"T_aab4fa00_74e9_11eb_86ae_0242ac1c0002level0_row10\" class=\"row_heading level0 row10\" >Property_Area</th>\n",
              "                        <td id=\"T_aab4fa00_74e9_11eb_86ae_0242ac1c0002row10_col0\" class=\"data row10 col0\" >-0.10</td>\n",
              "                        <td id=\"T_aab4fa00_74e9_11eb_86ae_0242ac1c0002row10_col1\" class=\"data row10 col1\" >0.01</td>\n",
              "                        <td id=\"T_aab4fa00_74e9_11eb_86ae_0242ac1c0002row10_col2\" class=\"data row10 col2\" >-0.01</td>\n",
              "                        <td id=\"T_aab4fa00_74e9_11eb_86ae_0242ac1c0002row10_col3\" class=\"data row10 col3\" >0.05</td>\n",
              "                        <td id=\"T_aab4fa00_74e9_11eb_86ae_0242ac1c0002row10_col4\" class=\"data row10 col4\" >-0.02</td>\n",
              "                        <td id=\"T_aab4fa00_74e9_11eb_86ae_0242ac1c0002row10_col5\" class=\"data row10 col5\" >-0.02</td>\n",
              "                        <td id=\"T_aab4fa00_74e9_11eb_86ae_0242ac1c0002row10_col6\" class=\"data row10 col6\" >-0.01</td>\n",
              "                        <td id=\"T_aab4fa00_74e9_11eb_86ae_0242ac1c0002row10_col7\" class=\"data row10 col7\" >-0.03</td>\n",
              "                        <td id=\"T_aab4fa00_74e9_11eb_86ae_0242ac1c0002row10_col8\" class=\"data row10 col8\" >0.01</td>\n",
              "                        <td id=\"T_aab4fa00_74e9_11eb_86ae_0242ac1c0002row10_col9\" class=\"data row10 col9\" >0.04</td>\n",
              "                        <td id=\"T_aab4fa00_74e9_11eb_86ae_0242ac1c0002row10_col10\" class=\"data row10 col10\" >1.00</td>\n",
              "                        <td id=\"T_aab4fa00_74e9_11eb_86ae_0242ac1c0002row10_col11\" class=\"data row10 col11\" >0.14</td>\n",
              "            </tr>\n",
              "            <tr>\n",
              "                        <th id=\"T_aab4fa00_74e9_11eb_86ae_0242ac1c0002level0_row11\" class=\"row_heading level0 row11\" >Loan_Status</th>\n",
              "                        <td id=\"T_aab4fa00_74e9_11eb_86ae_0242ac1c0002row11_col0\" class=\"data row11 col0\" >0.03</td>\n",
              "                        <td id=\"T_aab4fa00_74e9_11eb_86ae_0242ac1c0002row11_col1\" class=\"data row11 col1\" >0.11</td>\n",
              "                        <td id=\"T_aab4fa00_74e9_11eb_86ae_0242ac1c0002row11_col2\" class=\"data row11 col2\" >0.01</td>\n",
              "                        <td id=\"T_aab4fa00_74e9_11eb_86ae_0242ac1c0002row11_col3\" class=\"data row11 col3\" >0.08</td>\n",
              "                        <td id=\"T_aab4fa00_74e9_11eb_86ae_0242ac1c0002row11_col4\" class=\"data row11 col4\" >-0.02</td>\n",
              "                        <td id=\"T_aab4fa00_74e9_11eb_86ae_0242ac1c0002row11_col5\" class=\"data row11 col5\" >-0.04</td>\n",
              "                        <td id=\"T_aab4fa00_74e9_11eb_86ae_0242ac1c0002row11_col6\" class=\"data row11 col6\" >-0.04</td>\n",
              "                        <td id=\"T_aab4fa00_74e9_11eb_86ae_0242ac1c0002row11_col7\" class=\"data row11 col7\" >-0.06</td>\n",
              "                        <td id=\"T_aab4fa00_74e9_11eb_86ae_0242ac1c0002row11_col8\" class=\"data row11 col8\" >-0.01</td>\n",
              "                        <td id=\"T_aab4fa00_74e9_11eb_86ae_0242ac1c0002row11_col9\" class=\"data row11 col9\" >0.52</td>\n",
              "                        <td id=\"T_aab4fa00_74e9_11eb_86ae_0242ac1c0002row11_col10\" class=\"data row11 col10\" >0.14</td>\n",
              "                        <td id=\"T_aab4fa00_74e9_11eb_86ae_0242ac1c0002row11_col11\" class=\"data row11 col11\" >1.00</td>\n",
              "            </tr>\n",
              "    </tbody></table>"
            ],
            "text/plain": [
              "<pandas.io.formats.style.Styler at 0x7fd73322ef60>"
            ]
          },
          "metadata": {
            "tags": []
          },
          "execution_count": 206
        }
      ]
    },
    {
      "cell_type": "markdown",
      "metadata": {
        "id": "VXx3whUaOc8X"
      },
      "source": [
        "from the result shown above,, we can see that `Credit_History` have a quite high positive correlation number (0.52). That means, our target (`Loan_Status`) is highly dependant with `Credit_History`"
      ]
    },
    {
      "cell_type": "markdown",
      "metadata": {
        "id": "wx-Z1lpD204q"
      },
      "source": [
        "### **3. Model Selection**\r\n"
      ]
    },
    {
      "cell_type": "markdown",
      "metadata": {
        "id": "iiivJ8rTwFa3"
      },
      "source": [
        "For this experiment, we use Random Forest Classifier to predict the `Loan_Status`"
      ]
    },
    {
      "cell_type": "markdown",
      "metadata": {
        "id": "cGoErWqh4uqS"
      },
      "source": [
        "#### **3.1 Import Libraries**\r\n",
        "\r\n"
      ]
    },
    {
      "cell_type": "code",
      "metadata": {
        "id": "KXFRFJnL2pn-"
      },
      "source": [
        "from sklearn.preprocessing import LabelEncoder\r\n",
        "from sklearn.model_selection import train_test_split\r\n",
        "from sklearn.ensemble import RandomForestClassifier\r\n",
        "from sklearn.metrics import confusion_matrix\r\n",
        "from sklearn.metrics import classification_report\r\n",
        "from sklearn.metrics import accuracy_score"
      ],
      "execution_count": 26,
      "outputs": []
    },
    {
      "cell_type": "markdown",
      "metadata": {
        "id": "wLa3k6-oxP6Q"
      },
      "source": [
        "### **4. Training and Validation**\r\n"
      ]
    },
    {
      "cell_type": "markdown",
      "metadata": {
        "id": "t2fBC-r5PqI6"
      },
      "source": [
        "The Process of Training the Data:\r\n",
        "\r\n",
        "*   Importing the model\r\n",
        "*   Fitting the model\r\n",
        "*   Predicting Loan Status\r\n",
        "*   Classification report by Loan Status\r\n",
        "*   Overall accuracy\r\n",
        "\r\n",
        "\r\n",
        "\r\n",
        "\r\n",
        "\r\n",
        "\r\n",
        "\r\n",
        "\r\n",
        "\r\n",
        "\r\n",
        "\r\n"
      ]
    },
    {
      "cell_type": "markdown",
      "metadata": {
        "id": "3Ui7AKkSwcih"
      },
      "source": [
        "####**4.1 Data Train, Test (Validation) Split**\r\n",
        "\r\n"
      ]
    },
    {
      "cell_type": "code",
      "metadata": {
        "id": "it5DR5djwbUk"
      },
      "source": [
        "X = df_train.drop('Loan_Status', axis = 1)\r\n",
        "y = df_train['Loan_Status']\r\n",
        "\r\n",
        "X_train, X_test, y_train, y_test = train_test_split(X, y, test_size = 0.3, random_state = 0)"
      ],
      "execution_count": 27,
      "outputs": []
    },
    {
      "cell_type": "markdown",
      "metadata": {
        "id": "PISzlPLy0RE7"
      },
      "source": [
        "####**4.2 Train and Validate Model using Random Forest Classifier**\r\n",
        "\r\n"
      ]
    },
    {
      "cell_type": "code",
      "metadata": {
        "colab": {
          "base_uri": "https://localhost:8080/"
        },
        "id": "DthrDmgRxQ9Y",
        "outputId": "59bf2a8f-c696-4576-bc37-0c759389a407"
      },
      "source": [
        "RF = RandomForestClassifier()\r\n",
        "RF.fit(X_train, y_train)\r\n",
        "\r\n",
        "y_predict = RF.predict(X_test)\r\n",
        "\r\n",
        "#  prediction Summary by species\r\n",
        "print(classification_report(y_test, y_predict))\r\n",
        "\r\n",
        "# Accuracy score\r\n",
        "RF_Score = accuracy_score(y_predict,y_test)\r\n",
        "print(f\"{round(RF_Score*100,2)}% Accurate\")"
      ],
      "execution_count": 51,
      "outputs": [
        {
          "output_type": "stream",
          "text": [
            "              precision    recall  f1-score   support\n",
            "\n",
            "           0       0.86      0.38      0.53        47\n",
            "           1       0.80      0.97      0.88       116\n",
            "\n",
            "    accuracy                           0.80       163\n",
            "   macro avg       0.83      0.68      0.70       163\n",
            "weighted avg       0.81      0.80      0.78       163\n",
            "\n",
            "80.37% Accurate\n"
          ],
          "name": "stdout"
        }
      ]
    },
    {
      "cell_type": "markdown",
      "metadata": {
        "id": "MJik8_W30YWx"
      },
      "source": [
        "**Make new dataframe**"
      ]
    },
    {
      "cell_type": "code",
      "metadata": {
        "id": "kx02Ri2SyhpG"
      },
      "source": [
        "Loan_Status_Validation=pd.DataFrame({'y_test':y_test,'prediction':y_predict})"
      ],
      "execution_count": 29,
      "outputs": []
    },
    {
      "cell_type": "code",
      "metadata": {
        "colab": {
          "base_uri": "https://localhost:8080/",
          "height": 399
        },
        "id": "RAmP7StY0AJg",
        "outputId": "5bc1aa20-8763-463f-8082-cc860f606836"
      },
      "source": [
        "Loan_Status_Validation"
      ],
      "execution_count": 30,
      "outputs": [
        {
          "output_type": "execute_result",
          "data": {
            "text/html": [
              "<div>\n",
              "<style scoped>\n",
              "    .dataframe tbody tr th:only-of-type {\n",
              "        vertical-align: middle;\n",
              "    }\n",
              "\n",
              "    .dataframe tbody tr th {\n",
              "        vertical-align: top;\n",
              "    }\n",
              "\n",
              "    .dataframe thead th {\n",
              "        text-align: right;\n",
              "    }\n",
              "</style>\n",
              "<table border=\"1\" class=\"dataframe\">\n",
              "  <thead>\n",
              "    <tr style=\"text-align: right;\">\n",
              "      <th></th>\n",
              "      <th>y_test</th>\n",
              "      <th>prediction</th>\n",
              "    </tr>\n",
              "  </thead>\n",
              "  <tbody>\n",
              "    <tr>\n",
              "      <th>433</th>\n",
              "      <td>1</td>\n",
              "      <td>1</td>\n",
              "    </tr>\n",
              "    <tr>\n",
              "      <th>178</th>\n",
              "      <td>1</td>\n",
              "      <td>1</td>\n",
              "    </tr>\n",
              "    <tr>\n",
              "      <th>151</th>\n",
              "      <td>1</td>\n",
              "      <td>1</td>\n",
              "    </tr>\n",
              "    <tr>\n",
              "      <th>518</th>\n",
              "      <td>0</td>\n",
              "      <td>1</td>\n",
              "    </tr>\n",
              "    <tr>\n",
              "      <th>101</th>\n",
              "      <td>1</td>\n",
              "      <td>1</td>\n",
              "    </tr>\n",
              "    <tr>\n",
              "      <th>...</th>\n",
              "      <td>...</td>\n",
              "      <td>...</td>\n",
              "    </tr>\n",
              "    <tr>\n",
              "      <th>585</th>\n",
              "      <td>0</td>\n",
              "      <td>1</td>\n",
              "    </tr>\n",
              "    <tr>\n",
              "      <th>200</th>\n",
              "      <td>1</td>\n",
              "      <td>1</td>\n",
              "    </tr>\n",
              "    <tr>\n",
              "      <th>404</th>\n",
              "      <td>0</td>\n",
              "      <td>1</td>\n",
              "    </tr>\n",
              "    <tr>\n",
              "      <th>484</th>\n",
              "      <td>1</td>\n",
              "      <td>1</td>\n",
              "    </tr>\n",
              "    <tr>\n",
              "      <th>304</th>\n",
              "      <td>1</td>\n",
              "      <td>1</td>\n",
              "    </tr>\n",
              "  </tbody>\n",
              "</table>\n",
              "<p>163 rows × 2 columns</p>\n",
              "</div>"
            ],
            "text/plain": [
              "     y_test  prediction\n",
              "433       1           1\n",
              "178       1           1\n",
              "151       1           1\n",
              "518       0           1\n",
              "101       1           1\n",
              "..      ...         ...\n",
              "585       0           1\n",
              "200       1           1\n",
              "404       0           1\n",
              "484       1           1\n",
              "304       1           1\n",
              "\n",
              "[163 rows x 2 columns]"
            ]
          },
          "metadata": {
            "tags": []
          },
          "execution_count": 30
        }
      ]
    },
    {
      "cell_type": "markdown",
      "metadata": {
        "id": "qif0ZsL50gKf"
      },
      "source": [
        "###**5. Make Prediction**\r\n",
        "\r\n"
      ]
    },
    {
      "cell_type": "markdown",
      "metadata": {
        "id": "rHuMurCt07xA"
      },
      "source": [
        "#### **5.1. Load Testing Dataset**"
      ]
    },
    {
      "cell_type": "code",
      "metadata": {
        "colab": {
          "resources": {
            "http://localhost:8080/nbextensions/google.colab/files.js": {
              "data": "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",
              "ok": true,
              "headers": [
                [
                  "content-type",
                  "application/javascript"
                ]
              ],
              "status": 200,
              "status_text": ""
            }
          },
          "base_uri": "https://localhost:8080/",
          "height": 73
        },
        "id": "poTqTL7U1G3s",
        "outputId": "ba779d43-7928-4e1a-a679-39a459f896e9"
      },
      "source": [
        "#Load the data\r\n",
        "from google.colab import files\r\n",
        "uploaded = files.upload()"
      ],
      "execution_count": 31,
      "outputs": [
        {
          "output_type": "display_data",
          "data": {
            "text/html": [
              "\n",
              "     <input type=\"file\" id=\"files-fe23189c-890e-462d-8cc6-09286f72df66\" name=\"files[]\" multiple disabled\n",
              "        style=\"border:none\" />\n",
              "     <output id=\"result-fe23189c-890e-462d-8cc6-09286f72df66\">\n",
              "      Upload widget is only available when the cell has been executed in the\n",
              "      current browser session. Please rerun this cell to enable.\n",
              "      </output>\n",
              "      <script src=\"/nbextensions/google.colab/files.js\"></script> "
            ],
            "text/plain": [
              "<IPython.core.display.HTML object>"
            ]
          },
          "metadata": {
            "tags": []
          }
        },
        {
          "output_type": "stream",
          "text": [
            "Saving test_Y3wMUE5_7gLdaTN.csv to test_Y3wMUE5_7gLdaTN.csv\n"
          ],
          "name": "stdout"
        }
      ]
    },
    {
      "cell_type": "code",
      "metadata": {
        "colab": {
          "base_uri": "https://localhost:8080/",
          "height": 433
        },
        "id": "rL8SL8Qo3AIS",
        "outputId": "4bfc6f9b-b3c3-400b-8fc9-2efd0a1a6c9e"
      },
      "source": [
        "df_test = pd.read_csv('test_Y3wMUE5_7gLdaTN.csv')\r\n",
        "df_test"
      ],
      "execution_count": 41,
      "outputs": [
        {
          "output_type": "execute_result",
          "data": {
            "text/html": [
              "<div>\n",
              "<style scoped>\n",
              "    .dataframe tbody tr th:only-of-type {\n",
              "        vertical-align: middle;\n",
              "    }\n",
              "\n",
              "    .dataframe tbody tr th {\n",
              "        vertical-align: top;\n",
              "    }\n",
              "\n",
              "    .dataframe thead th {\n",
              "        text-align: right;\n",
              "    }\n",
              "</style>\n",
              "<table border=\"1\" class=\"dataframe\">\n",
              "  <thead>\n",
              "    <tr style=\"text-align: right;\">\n",
              "      <th></th>\n",
              "      <th>Loan_ID</th>\n",
              "      <th>Gender</th>\n",
              "      <th>Married</th>\n",
              "      <th>Dependents</th>\n",
              "      <th>Education</th>\n",
              "      <th>Self_Employed</th>\n",
              "      <th>ApplicantIncome</th>\n",
              "      <th>CoapplicantIncome</th>\n",
              "      <th>LoanAmount</th>\n",
              "      <th>Loan_Amount_Term</th>\n",
              "      <th>Credit_History</th>\n",
              "      <th>Property_Area</th>\n",
              "    </tr>\n",
              "  </thead>\n",
              "  <tbody>\n",
              "    <tr>\n",
              "      <th>0</th>\n",
              "      <td>LP001015</td>\n",
              "      <td>Male</td>\n",
              "      <td>Yes</td>\n",
              "      <td>0</td>\n",
              "      <td>Graduate</td>\n",
              "      <td>No</td>\n",
              "      <td>5720</td>\n",
              "      <td>0</td>\n",
              "      <td>110.0</td>\n",
              "      <td>360.0</td>\n",
              "      <td>1.0</td>\n",
              "      <td>Urban</td>\n",
              "    </tr>\n",
              "    <tr>\n",
              "      <th>1</th>\n",
              "      <td>LP001022</td>\n",
              "      <td>Male</td>\n",
              "      <td>Yes</td>\n",
              "      <td>1</td>\n",
              "      <td>Graduate</td>\n",
              "      <td>No</td>\n",
              "      <td>3076</td>\n",
              "      <td>1500</td>\n",
              "      <td>126.0</td>\n",
              "      <td>360.0</td>\n",
              "      <td>1.0</td>\n",
              "      <td>Urban</td>\n",
              "    </tr>\n",
              "    <tr>\n",
              "      <th>2</th>\n",
              "      <td>LP001031</td>\n",
              "      <td>Male</td>\n",
              "      <td>Yes</td>\n",
              "      <td>2</td>\n",
              "      <td>Graduate</td>\n",
              "      <td>No</td>\n",
              "      <td>5000</td>\n",
              "      <td>1800</td>\n",
              "      <td>208.0</td>\n",
              "      <td>360.0</td>\n",
              "      <td>1.0</td>\n",
              "      <td>Urban</td>\n",
              "    </tr>\n",
              "    <tr>\n",
              "      <th>3</th>\n",
              "      <td>LP001035</td>\n",
              "      <td>Male</td>\n",
              "      <td>Yes</td>\n",
              "      <td>2</td>\n",
              "      <td>Graduate</td>\n",
              "      <td>No</td>\n",
              "      <td>2340</td>\n",
              "      <td>2546</td>\n",
              "      <td>100.0</td>\n",
              "      <td>360.0</td>\n",
              "      <td>NaN</td>\n",
              "      <td>Urban</td>\n",
              "    </tr>\n",
              "    <tr>\n",
              "      <th>4</th>\n",
              "      <td>LP001051</td>\n",
              "      <td>Male</td>\n",
              "      <td>No</td>\n",
              "      <td>0</td>\n",
              "      <td>Not Graduate</td>\n",
              "      <td>No</td>\n",
              "      <td>3276</td>\n",
              "      <td>0</td>\n",
              "      <td>78.0</td>\n",
              "      <td>360.0</td>\n",
              "      <td>1.0</td>\n",
              "      <td>Urban</td>\n",
              "    </tr>\n",
              "    <tr>\n",
              "      <th>...</th>\n",
              "      <td>...</td>\n",
              "      <td>...</td>\n",
              "      <td>...</td>\n",
              "      <td>...</td>\n",
              "      <td>...</td>\n",
              "      <td>...</td>\n",
              "      <td>...</td>\n",
              "      <td>...</td>\n",
              "      <td>...</td>\n",
              "      <td>...</td>\n",
              "      <td>...</td>\n",
              "      <td>...</td>\n",
              "    </tr>\n",
              "    <tr>\n",
              "      <th>362</th>\n",
              "      <td>LP002971</td>\n",
              "      <td>Male</td>\n",
              "      <td>Yes</td>\n",
              "      <td>3+</td>\n",
              "      <td>Not Graduate</td>\n",
              "      <td>Yes</td>\n",
              "      <td>4009</td>\n",
              "      <td>1777</td>\n",
              "      <td>113.0</td>\n",
              "      <td>360.0</td>\n",
              "      <td>1.0</td>\n",
              "      <td>Urban</td>\n",
              "    </tr>\n",
              "    <tr>\n",
              "      <th>363</th>\n",
              "      <td>LP002975</td>\n",
              "      <td>Male</td>\n",
              "      <td>Yes</td>\n",
              "      <td>0</td>\n",
              "      <td>Graduate</td>\n",
              "      <td>No</td>\n",
              "      <td>4158</td>\n",
              "      <td>709</td>\n",
              "      <td>115.0</td>\n",
              "      <td>360.0</td>\n",
              "      <td>1.0</td>\n",
              "      <td>Urban</td>\n",
              "    </tr>\n",
              "    <tr>\n",
              "      <th>364</th>\n",
              "      <td>LP002980</td>\n",
              "      <td>Male</td>\n",
              "      <td>No</td>\n",
              "      <td>0</td>\n",
              "      <td>Graduate</td>\n",
              "      <td>No</td>\n",
              "      <td>3250</td>\n",
              "      <td>1993</td>\n",
              "      <td>126.0</td>\n",
              "      <td>360.0</td>\n",
              "      <td>NaN</td>\n",
              "      <td>Semiurban</td>\n",
              "    </tr>\n",
              "    <tr>\n",
              "      <th>365</th>\n",
              "      <td>LP002986</td>\n",
              "      <td>Male</td>\n",
              "      <td>Yes</td>\n",
              "      <td>0</td>\n",
              "      <td>Graduate</td>\n",
              "      <td>No</td>\n",
              "      <td>5000</td>\n",
              "      <td>2393</td>\n",
              "      <td>158.0</td>\n",
              "      <td>360.0</td>\n",
              "      <td>1.0</td>\n",
              "      <td>Rural</td>\n",
              "    </tr>\n",
              "    <tr>\n",
              "      <th>366</th>\n",
              "      <td>LP002989</td>\n",
              "      <td>Male</td>\n",
              "      <td>No</td>\n",
              "      <td>0</td>\n",
              "      <td>Graduate</td>\n",
              "      <td>Yes</td>\n",
              "      <td>9200</td>\n",
              "      <td>0</td>\n",
              "      <td>98.0</td>\n",
              "      <td>180.0</td>\n",
              "      <td>1.0</td>\n",
              "      <td>Rural</td>\n",
              "    </tr>\n",
              "  </tbody>\n",
              "</table>\n",
              "<p>367 rows × 12 columns</p>\n",
              "</div>"
            ],
            "text/plain": [
              "      Loan_ID Gender Married  ... Loan_Amount_Term Credit_History Property_Area\n",
              "0    LP001015   Male     Yes  ...            360.0            1.0         Urban\n",
              "1    LP001022   Male     Yes  ...            360.0            1.0         Urban\n",
              "2    LP001031   Male     Yes  ...            360.0            1.0         Urban\n",
              "3    LP001035   Male     Yes  ...            360.0            NaN         Urban\n",
              "4    LP001051   Male      No  ...            360.0            1.0         Urban\n",
              "..        ...    ...     ...  ...              ...            ...           ...\n",
              "362  LP002971   Male     Yes  ...            360.0            1.0         Urban\n",
              "363  LP002975   Male     Yes  ...            360.0            1.0         Urban\n",
              "364  LP002980   Male      No  ...            360.0            NaN     Semiurban\n",
              "365  LP002986   Male     Yes  ...            360.0            1.0         Rural\n",
              "366  LP002989   Male      No  ...            180.0            1.0         Rural\n",
              "\n",
              "[367 rows x 12 columns]"
            ]
          },
          "metadata": {
            "tags": []
          },
          "execution_count": 41
        }
      ]
    },
    {
      "cell_type": "markdown",
      "metadata": {
        "id": "mEfXBw2X34uV"
      },
      "source": [
        "#### **5.2 Drop Missing Values**\r\n",
        "\r\n"
      ]
    },
    {
      "cell_type": "code",
      "metadata": {
        "id": "sHiUsw6S6B1P"
      },
      "source": [
        "df_test.dropna(inplace=True)"
      ],
      "execution_count": 42,
      "outputs": []
    },
    {
      "cell_type": "markdown",
      "metadata": {
        "id": "erZTg1DO6Chf"
      },
      "source": [
        "#### **5.3 Drop Redundant Feature**\r\n",
        "\r\n"
      ]
    },
    {
      "cell_type": "code",
      "metadata": {
        "id": "us23Q6VB33Nj"
      },
      "source": [
        "df_test.drop('Loan_ID', inplace=True, axis = 1)"
      ],
      "execution_count": 43,
      "outputs": []
    },
    {
      "cell_type": "code",
      "metadata": {
        "colab": {
          "base_uri": "https://localhost:8080/",
          "height": 399
        },
        "id": "qRPffNMu4BIw",
        "outputId": "cdadd0f8-1df7-4e23-a8ca-6dbce3e2ce12"
      },
      "source": [
        "df_test"
      ],
      "execution_count": 44,
      "outputs": [
        {
          "output_type": "execute_result",
          "data": {
            "text/html": [
              "<div>\n",
              "<style scoped>\n",
              "    .dataframe tbody tr th:only-of-type {\n",
              "        vertical-align: middle;\n",
              "    }\n",
              "\n",
              "    .dataframe tbody tr th {\n",
              "        vertical-align: top;\n",
              "    }\n",
              "\n",
              "    .dataframe thead th {\n",
              "        text-align: right;\n",
              "    }\n",
              "</style>\n",
              "<table border=\"1\" class=\"dataframe\">\n",
              "  <thead>\n",
              "    <tr style=\"text-align: right;\">\n",
              "      <th></th>\n",
              "      <th>Gender</th>\n",
              "      <th>Married</th>\n",
              "      <th>Dependents</th>\n",
              "      <th>Education</th>\n",
              "      <th>Self_Employed</th>\n",
              "      <th>ApplicantIncome</th>\n",
              "      <th>CoapplicantIncome</th>\n",
              "      <th>LoanAmount</th>\n",
              "      <th>Loan_Amount_Term</th>\n",
              "      <th>Credit_History</th>\n",
              "      <th>Property_Area</th>\n",
              "    </tr>\n",
              "  </thead>\n",
              "  <tbody>\n",
              "    <tr>\n",
              "      <th>0</th>\n",
              "      <td>Male</td>\n",
              "      <td>Yes</td>\n",
              "      <td>0</td>\n",
              "      <td>Graduate</td>\n",
              "      <td>No</td>\n",
              "      <td>5720</td>\n",
              "      <td>0</td>\n",
              "      <td>110.0</td>\n",
              "      <td>360.0</td>\n",
              "      <td>1.0</td>\n",
              "      <td>Urban</td>\n",
              "    </tr>\n",
              "    <tr>\n",
              "      <th>1</th>\n",
              "      <td>Male</td>\n",
              "      <td>Yes</td>\n",
              "      <td>1</td>\n",
              "      <td>Graduate</td>\n",
              "      <td>No</td>\n",
              "      <td>3076</td>\n",
              "      <td>1500</td>\n",
              "      <td>126.0</td>\n",
              "      <td>360.0</td>\n",
              "      <td>1.0</td>\n",
              "      <td>Urban</td>\n",
              "    </tr>\n",
              "    <tr>\n",
              "      <th>2</th>\n",
              "      <td>Male</td>\n",
              "      <td>Yes</td>\n",
              "      <td>2</td>\n",
              "      <td>Graduate</td>\n",
              "      <td>No</td>\n",
              "      <td>5000</td>\n",
              "      <td>1800</td>\n",
              "      <td>208.0</td>\n",
              "      <td>360.0</td>\n",
              "      <td>1.0</td>\n",
              "      <td>Urban</td>\n",
              "    </tr>\n",
              "    <tr>\n",
              "      <th>4</th>\n",
              "      <td>Male</td>\n",
              "      <td>No</td>\n",
              "      <td>0</td>\n",
              "      <td>Not Graduate</td>\n",
              "      <td>No</td>\n",
              "      <td>3276</td>\n",
              "      <td>0</td>\n",
              "      <td>78.0</td>\n",
              "      <td>360.0</td>\n",
              "      <td>1.0</td>\n",
              "      <td>Urban</td>\n",
              "    </tr>\n",
              "    <tr>\n",
              "      <th>5</th>\n",
              "      <td>Male</td>\n",
              "      <td>Yes</td>\n",
              "      <td>0</td>\n",
              "      <td>Not Graduate</td>\n",
              "      <td>Yes</td>\n",
              "      <td>2165</td>\n",
              "      <td>3422</td>\n",
              "      <td>152.0</td>\n",
              "      <td>360.0</td>\n",
              "      <td>1.0</td>\n",
              "      <td>Urban</td>\n",
              "    </tr>\n",
              "    <tr>\n",
              "      <th>...</th>\n",
              "      <td>...</td>\n",
              "      <td>...</td>\n",
              "      <td>...</td>\n",
              "      <td>...</td>\n",
              "      <td>...</td>\n",
              "      <td>...</td>\n",
              "      <td>...</td>\n",
              "      <td>...</td>\n",
              "      <td>...</td>\n",
              "      <td>...</td>\n",
              "      <td>...</td>\n",
              "    </tr>\n",
              "    <tr>\n",
              "      <th>361</th>\n",
              "      <td>Male</td>\n",
              "      <td>Yes</td>\n",
              "      <td>1</td>\n",
              "      <td>Graduate</td>\n",
              "      <td>No</td>\n",
              "      <td>2269</td>\n",
              "      <td>2167</td>\n",
              "      <td>99.0</td>\n",
              "      <td>360.0</td>\n",
              "      <td>1.0</td>\n",
              "      <td>Semiurban</td>\n",
              "    </tr>\n",
              "    <tr>\n",
              "      <th>362</th>\n",
              "      <td>Male</td>\n",
              "      <td>Yes</td>\n",
              "      <td>3+</td>\n",
              "      <td>Not Graduate</td>\n",
              "      <td>Yes</td>\n",
              "      <td>4009</td>\n",
              "      <td>1777</td>\n",
              "      <td>113.0</td>\n",
              "      <td>360.0</td>\n",
              "      <td>1.0</td>\n",
              "      <td>Urban</td>\n",
              "    </tr>\n",
              "    <tr>\n",
              "      <th>363</th>\n",
              "      <td>Male</td>\n",
              "      <td>Yes</td>\n",
              "      <td>0</td>\n",
              "      <td>Graduate</td>\n",
              "      <td>No</td>\n",
              "      <td>4158</td>\n",
              "      <td>709</td>\n",
              "      <td>115.0</td>\n",
              "      <td>360.0</td>\n",
              "      <td>1.0</td>\n",
              "      <td>Urban</td>\n",
              "    </tr>\n",
              "    <tr>\n",
              "      <th>365</th>\n",
              "      <td>Male</td>\n",
              "      <td>Yes</td>\n",
              "      <td>0</td>\n",
              "      <td>Graduate</td>\n",
              "      <td>No</td>\n",
              "      <td>5000</td>\n",
              "      <td>2393</td>\n",
              "      <td>158.0</td>\n",
              "      <td>360.0</td>\n",
              "      <td>1.0</td>\n",
              "      <td>Rural</td>\n",
              "    </tr>\n",
              "    <tr>\n",
              "      <th>366</th>\n",
              "      <td>Male</td>\n",
              "      <td>No</td>\n",
              "      <td>0</td>\n",
              "      <td>Graduate</td>\n",
              "      <td>Yes</td>\n",
              "      <td>9200</td>\n",
              "      <td>0</td>\n",
              "      <td>98.0</td>\n",
              "      <td>180.0</td>\n",
              "      <td>1.0</td>\n",
              "      <td>Rural</td>\n",
              "    </tr>\n",
              "  </tbody>\n",
              "</table>\n",
              "<p>289 rows × 11 columns</p>\n",
              "</div>"
            ],
            "text/plain": [
              "    Gender Married Dependents  ... Loan_Amount_Term Credit_History  Property_Area\n",
              "0     Male     Yes          0  ...            360.0            1.0          Urban\n",
              "1     Male     Yes          1  ...            360.0            1.0          Urban\n",
              "2     Male     Yes          2  ...            360.0            1.0          Urban\n",
              "4     Male      No          0  ...            360.0            1.0          Urban\n",
              "5     Male     Yes          0  ...            360.0            1.0          Urban\n",
              "..     ...     ...        ...  ...              ...            ...            ...\n",
              "361   Male     Yes          1  ...            360.0            1.0      Semiurban\n",
              "362   Male     Yes         3+  ...            360.0            1.0          Urban\n",
              "363   Male     Yes          0  ...            360.0            1.0          Urban\n",
              "365   Male     Yes          0  ...            360.0            1.0          Rural\n",
              "366   Male      No          0  ...            180.0            1.0          Rural\n",
              "\n",
              "[289 rows x 11 columns]"
            ]
          },
          "metadata": {
            "tags": []
          },
          "execution_count": 44
        }
      ]
    },
    {
      "cell_type": "markdown",
      "metadata": {
        "id": "9EKV9Lz14o-X"
      },
      "source": [
        "#### **5.4 Object Type Mapping into Numerical Values**\r\n",
        "\r\n"
      ]
    },
    {
      "cell_type": "code",
      "metadata": {
        "id": "Rwsvuj6g4LGD"
      },
      "source": [
        "df_test.Gender = df_test.Gender.map({'Male':1, 'Female':0})\r\n",
        "df_test.Married = df_test.Married.map({'Yes':1, 'No':0})\r\n",
        "df_test.Education = df_test.Education.map({'Graduate':1, 'Not Graduate':0})\r\n",
        "df_test.Self_Employed = df_test.Self_Employed.map({'Yes':1, 'No':0})\r\n",
        "df_test.Dependents = df_test.Dependents.map({'0':0, '1':1, '2':2, '3+':3})\r\n",
        "df_test.Property_Area = df_test.Property_Area.map({'Urban':1, 'Rural':0, 'Semiurban':2})"
      ],
      "execution_count": 45,
      "outputs": []
    },
    {
      "cell_type": "code",
      "metadata": {
        "colab": {
          "base_uri": "https://localhost:8080/",
          "height": 399
        },
        "id": "q8mC9mus5o7a",
        "outputId": "5c23e8a1-2b50-4837-bb6a-541760c552f5"
      },
      "source": [
        "df_test"
      ],
      "execution_count": 46,
      "outputs": [
        {
          "output_type": "execute_result",
          "data": {
            "text/html": [
              "<div>\n",
              "<style scoped>\n",
              "    .dataframe tbody tr th:only-of-type {\n",
              "        vertical-align: middle;\n",
              "    }\n",
              "\n",
              "    .dataframe tbody tr th {\n",
              "        vertical-align: top;\n",
              "    }\n",
              "\n",
              "    .dataframe thead th {\n",
              "        text-align: right;\n",
              "    }\n",
              "</style>\n",
              "<table border=\"1\" class=\"dataframe\">\n",
              "  <thead>\n",
              "    <tr style=\"text-align: right;\">\n",
              "      <th></th>\n",
              "      <th>Gender</th>\n",
              "      <th>Married</th>\n",
              "      <th>Dependents</th>\n",
              "      <th>Education</th>\n",
              "      <th>Self_Employed</th>\n",
              "      <th>ApplicantIncome</th>\n",
              "      <th>CoapplicantIncome</th>\n",
              "      <th>LoanAmount</th>\n",
              "      <th>Loan_Amount_Term</th>\n",
              "      <th>Credit_History</th>\n",
              "      <th>Property_Area</th>\n",
              "    </tr>\n",
              "  </thead>\n",
              "  <tbody>\n",
              "    <tr>\n",
              "      <th>0</th>\n",
              "      <td>1</td>\n",
              "      <td>1</td>\n",
              "      <td>0</td>\n",
              "      <td>1</td>\n",
              "      <td>0</td>\n",
              "      <td>5720</td>\n",
              "      <td>0</td>\n",
              "      <td>110.0</td>\n",
              "      <td>360.0</td>\n",
              "      <td>1.0</td>\n",
              "      <td>1</td>\n",
              "    </tr>\n",
              "    <tr>\n",
              "      <th>1</th>\n",
              "      <td>1</td>\n",
              "      <td>1</td>\n",
              "      <td>1</td>\n",
              "      <td>1</td>\n",
              "      <td>0</td>\n",
              "      <td>3076</td>\n",
              "      <td>1500</td>\n",
              "      <td>126.0</td>\n",
              "      <td>360.0</td>\n",
              "      <td>1.0</td>\n",
              "      <td>1</td>\n",
              "    </tr>\n",
              "    <tr>\n",
              "      <th>2</th>\n",
              "      <td>1</td>\n",
              "      <td>1</td>\n",
              "      <td>2</td>\n",
              "      <td>1</td>\n",
              "      <td>0</td>\n",
              "      <td>5000</td>\n",
              "      <td>1800</td>\n",
              "      <td>208.0</td>\n",
              "      <td>360.0</td>\n",
              "      <td>1.0</td>\n",
              "      <td>1</td>\n",
              "    </tr>\n",
              "    <tr>\n",
              "      <th>4</th>\n",
              "      <td>1</td>\n",
              "      <td>0</td>\n",
              "      <td>0</td>\n",
              "      <td>0</td>\n",
              "      <td>0</td>\n",
              "      <td>3276</td>\n",
              "      <td>0</td>\n",
              "      <td>78.0</td>\n",
              "      <td>360.0</td>\n",
              "      <td>1.0</td>\n",
              "      <td>1</td>\n",
              "    </tr>\n",
              "    <tr>\n",
              "      <th>5</th>\n",
              "      <td>1</td>\n",
              "      <td>1</td>\n",
              "      <td>0</td>\n",
              "      <td>0</td>\n",
              "      <td>1</td>\n",
              "      <td>2165</td>\n",
              "      <td>3422</td>\n",
              "      <td>152.0</td>\n",
              "      <td>360.0</td>\n",
              "      <td>1.0</td>\n",
              "      <td>1</td>\n",
              "    </tr>\n",
              "    <tr>\n",
              "      <th>...</th>\n",
              "      <td>...</td>\n",
              "      <td>...</td>\n",
              "      <td>...</td>\n",
              "      <td>...</td>\n",
              "      <td>...</td>\n",
              "      <td>...</td>\n",
              "      <td>...</td>\n",
              "      <td>...</td>\n",
              "      <td>...</td>\n",
              "      <td>...</td>\n",
              "      <td>...</td>\n",
              "    </tr>\n",
              "    <tr>\n",
              "      <th>361</th>\n",
              "      <td>1</td>\n",
              "      <td>1</td>\n",
              "      <td>1</td>\n",
              "      <td>1</td>\n",
              "      <td>0</td>\n",
              "      <td>2269</td>\n",
              "      <td>2167</td>\n",
              "      <td>99.0</td>\n",
              "      <td>360.0</td>\n",
              "      <td>1.0</td>\n",
              "      <td>2</td>\n",
              "    </tr>\n",
              "    <tr>\n",
              "      <th>362</th>\n",
              "      <td>1</td>\n",
              "      <td>1</td>\n",
              "      <td>3</td>\n",
              "      <td>0</td>\n",
              "      <td>1</td>\n",
              "      <td>4009</td>\n",
              "      <td>1777</td>\n",
              "      <td>113.0</td>\n",
              "      <td>360.0</td>\n",
              "      <td>1.0</td>\n",
              "      <td>1</td>\n",
              "    </tr>\n",
              "    <tr>\n",
              "      <th>363</th>\n",
              "      <td>1</td>\n",
              "      <td>1</td>\n",
              "      <td>0</td>\n",
              "      <td>1</td>\n",
              "      <td>0</td>\n",
              "      <td>4158</td>\n",
              "      <td>709</td>\n",
              "      <td>115.0</td>\n",
              "      <td>360.0</td>\n",
              "      <td>1.0</td>\n",
              "      <td>1</td>\n",
              "    </tr>\n",
              "    <tr>\n",
              "      <th>365</th>\n",
              "      <td>1</td>\n",
              "      <td>1</td>\n",
              "      <td>0</td>\n",
              "      <td>1</td>\n",
              "      <td>0</td>\n",
              "      <td>5000</td>\n",
              "      <td>2393</td>\n",
              "      <td>158.0</td>\n",
              "      <td>360.0</td>\n",
              "      <td>1.0</td>\n",
              "      <td>0</td>\n",
              "    </tr>\n",
              "    <tr>\n",
              "      <th>366</th>\n",
              "      <td>1</td>\n",
              "      <td>0</td>\n",
              "      <td>0</td>\n",
              "      <td>1</td>\n",
              "      <td>1</td>\n",
              "      <td>9200</td>\n",
              "      <td>0</td>\n",
              "      <td>98.0</td>\n",
              "      <td>180.0</td>\n",
              "      <td>1.0</td>\n",
              "      <td>0</td>\n",
              "    </tr>\n",
              "  </tbody>\n",
              "</table>\n",
              "<p>289 rows × 11 columns</p>\n",
              "</div>"
            ],
            "text/plain": [
              "     Gender  Married  ...  Credit_History  Property_Area\n",
              "0         1        1  ...             1.0              1\n",
              "1         1        1  ...             1.0              1\n",
              "2         1        1  ...             1.0              1\n",
              "4         1        0  ...             1.0              1\n",
              "5         1        1  ...             1.0              1\n",
              "..      ...      ...  ...             ...            ...\n",
              "361       1        1  ...             1.0              2\n",
              "362       1        1  ...             1.0              1\n",
              "363       1        1  ...             1.0              1\n",
              "365       1        1  ...             1.0              0\n",
              "366       1        0  ...             1.0              0\n",
              "\n",
              "[289 rows x 11 columns]"
            ]
          },
          "metadata": {
            "tags": []
          },
          "execution_count": 46
        }
      ]
    },
    {
      "cell_type": "markdown",
      "metadata": {
        "id": "7sKu-Wam5sSO"
      },
      "source": [
        "#### **5.5 Make Prediction**\r\n",
        "\r\n"
      ]
    },
    {
      "cell_type": "code",
      "metadata": {
        "id": "AX33Myd15xG9"
      },
      "source": [
        "y_test_predict = RF.predict(df_test)"
      ],
      "execution_count": 47,
      "outputs": []
    },
    {
      "cell_type": "markdown",
      "metadata": {
        "id": "acF0AGVh7qHD"
      },
      "source": [
        "**Make a new dataframe**"
      ]
    },
    {
      "cell_type": "code",
      "metadata": {
        "colab": {
          "base_uri": "https://localhost:8080/",
          "height": 399
        },
        "id": "qgpIEmhl6UQx",
        "outputId": "44b7ab96-50b4-4769-dafc-1d986f7eeb00"
      },
      "source": [
        "Loan_Status_Prediction=pd.DataFrame({'y_test_predict':y_test_predict})\r\n",
        "Loan_Status_Prediction"
      ],
      "execution_count": 48,
      "outputs": [
        {
          "output_type": "execute_result",
          "data": {
            "text/html": [
              "<div>\n",
              "<style scoped>\n",
              "    .dataframe tbody tr th:only-of-type {\n",
              "        vertical-align: middle;\n",
              "    }\n",
              "\n",
              "    .dataframe tbody tr th {\n",
              "        vertical-align: top;\n",
              "    }\n",
              "\n",
              "    .dataframe thead th {\n",
              "        text-align: right;\n",
              "    }\n",
              "</style>\n",
              "<table border=\"1\" class=\"dataframe\">\n",
              "  <thead>\n",
              "    <tr style=\"text-align: right;\">\n",
              "      <th></th>\n",
              "      <th>y_test_predict</th>\n",
              "    </tr>\n",
              "  </thead>\n",
              "  <tbody>\n",
              "    <tr>\n",
              "      <th>0</th>\n",
              "      <td>1</td>\n",
              "    </tr>\n",
              "    <tr>\n",
              "      <th>1</th>\n",
              "      <td>1</td>\n",
              "    </tr>\n",
              "    <tr>\n",
              "      <th>2</th>\n",
              "      <td>1</td>\n",
              "    </tr>\n",
              "    <tr>\n",
              "      <th>3</th>\n",
              "      <td>0</td>\n",
              "    </tr>\n",
              "    <tr>\n",
              "      <th>4</th>\n",
              "      <td>1</td>\n",
              "    </tr>\n",
              "    <tr>\n",
              "      <th>...</th>\n",
              "      <td>...</td>\n",
              "    </tr>\n",
              "    <tr>\n",
              "      <th>284</th>\n",
              "      <td>1</td>\n",
              "    </tr>\n",
              "    <tr>\n",
              "      <th>285</th>\n",
              "      <td>1</td>\n",
              "    </tr>\n",
              "    <tr>\n",
              "      <th>286</th>\n",
              "      <td>1</td>\n",
              "    </tr>\n",
              "    <tr>\n",
              "      <th>287</th>\n",
              "      <td>1</td>\n",
              "    </tr>\n",
              "    <tr>\n",
              "      <th>288</th>\n",
              "      <td>0</td>\n",
              "    </tr>\n",
              "  </tbody>\n",
              "</table>\n",
              "<p>289 rows × 1 columns</p>\n",
              "</div>"
            ],
            "text/plain": [
              "     y_test_predict\n",
              "0                 1\n",
              "1                 1\n",
              "2                 1\n",
              "3                 0\n",
              "4                 1\n",
              "..              ...\n",
              "284               1\n",
              "285               1\n",
              "286               1\n",
              "287               1\n",
              "288               0\n",
              "\n",
              "[289 rows x 1 columns]"
            ]
          },
          "metadata": {
            "tags": []
          },
          "execution_count": 48
        }
      ]
    },
    {
      "cell_type": "markdown",
      "metadata": {
        "id": "YBovK7YCdoys"
      },
      "source": [
        "# Thank you!\r\n",
        "\r\n",
        "Thank you for using this module, I hope you enjoy and learn much more from this module:)\r\n",
        "\r\n",
        "\r\n",
        "\r\n"
      ]
    },
    {
      "cell_type": "markdown",
      "metadata": {
        "id": "6-Z_eHU_d8HZ"
      },
      "source": [
        "Best Regards,\r\n",
        "\r\n",
        "Anggita"
      ]
    }
  ]
}